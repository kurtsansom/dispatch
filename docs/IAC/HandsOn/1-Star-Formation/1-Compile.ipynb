{
 "cells": [
  {
   "cell_type": "markdown",
   "metadata": {},
   "source": [
    "# Compile and test"
   ]
  },
  {
   "cell_type": "markdown",
   "metadata": {},
   "source": [
    "Normally, you would now do"
   ]
  },
  {
   "cell_type": "raw",
   "metadata": {},
   "source": [
    "module load gcc openmpi"
   ]
  },
  {
   "cell_type": "markdown",
   "metadata": {},
   "source": [
    "and compile with the default _gfortran_ compiler. But the _gfortran_ installation at La Palma has problems, so whereas DISPATCH can normally be compiled and runs fine with _gfortran_ and the _openmpi_ MPI libraary, on the La Palma system we need to use Intel's compilers and library (which also does give better peformance)."
   ]
  },
  {
   "cell_type": "markdown",
   "metadata": {},
   "source": [
    "Load the Intel compiler and MPI (once per session)"
   ]
  },
  {
   "cell_type": "raw",
   "metadata": {},
   "source": [
    "module load intel impi"
   ]
  },
  {
   "cell_type": "markdown",
   "metadata": {},
   "source": [
    "It appears that the correct license information is now loaded in the ``module load ...`` command, so it should no long be necessary to set the ``INTEL_LICENSE_FILE`` env variable, but in case it is, try"
   ]
  },
  {
   "cell_type": "raw",
   "metadata": {},
   "source": [
    "export INTEL_LICENSE_FILE=28518@zuko.ll.iac.es"
   ]
  },
  {
   "cell_type": "markdown",
   "metadata": {},
   "source": [
    "### As a first test, try ``experiment/turbulence``:\n",
    "Compiling and running with the default input file ``input.nml``:"
   ]
  },
  {
   "cell_type": "raw",
   "metadata": {},
   "source": [
    "cd experiments/turbulence\n",
    "make COMPILER=ifort -j\n",
    "./dispatch.x"
   ]
  },
  {
   "cell_type": "markdown",
   "metadata": {},
   "source": [
    "This should take just a few seconds, emitting a number of lines as patches are updates, and saving only the initial and final snapshot.  This is a small amount of data, and is by default written do a ``data/``diretory, created by the code."
   ]
  }
 ],
 "metadata": {
  "kernelspec": {
   "display_name": "Python 3",
   "language": "python",
   "name": "python3"
  },
  "language_info": {
   "codemirror_mode": {
    "name": "ipython",
    "version": 3
   },
   "file_extension": ".py",
   "mimetype": "text/x-python",
   "name": "python",
   "nbconvert_exporter": "python",
   "pygments_lexer": "ipython3",
   "version": "3.7.4"
  }
 },
 "nbformat": 4,
 "nbformat_minor": 4
}
