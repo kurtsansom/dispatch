{
 "cells": [
  {
   "cell_type": "markdown",
   "metadata": {},
   "source": [
    "# Run experiments"
   ]
  },
  {
   "cell_type": "markdown",
   "metadata": {},
   "source": [
    "### Make a link from a scratch directory to ``data``\n",
    "This only has to be done once:"
   ]
  },
  {
   "cell_type": "raw",
   "metadata": {},
   "source": [
    "cd ../../experiments/pan\n",
    "mkdir -p /storage/scratch/can90/$USER/dispatch/pan\n",
    "ln -s /storage/can90/$USER/pan data"
   ]
  },
  {
   "cell_type": "markdown",
   "metadata": {},
   "source": [
    "### Compile and run the ``pan`` experiment"
   ]
  },
  {
   "cell_type": "code",
   "execution_count": null,
   "metadata": {},
   "outputs": [],
   "source": [
    "make COMPILER=ifort -j\n",
    "./dispatch.x"
   ]
  },
  {
   "cell_type": "markdown",
   "metadata": {},
   "source": [
    "This produces data in the ``data`` directory, which is now in fact residing under ``/storage/scratch``"
   ]
  },
  {
   "cell_type": "markdown",
   "metadata": {},
   "source": [
    "To run with a different input file (change for example ``end_time`` to something larger, and/or change ``ampl_turb`` from 2 to 10 -- the data shown in the ``Access`` notebook was made with ``end_time=0.077 out_time=0.025`` and ``ampl_turb=10``):"
   ]
  },
  {
   "cell_type": "raw",
   "metadata": {},
   "source": [
    "cp input.nml myrun.nml\n",
    "... edit ...\n",
    "./dispatch.x myrun.nml | tee myron.log"
   ]
  },
  {
   "cell_type": "markdown",
   "metadata": {},
   "source": [
    "This producedes data in ``data/myrun/``, where we can look at it with Python in a Jupyter Notebook\n",
    "\n",
    "Note that this run is still small enough to be executed on the frontend.   For larger runs, use ``sallocate`` to get a cluster node to run interactively on.  By default it will use all available cores, even though the number of tasks (512) is a bit too small to use that many cores efficiently."
   ]
  }
 ],
 "metadata": {
  "kernelspec": {
   "display_name": "Python 3",
   "language": "python",
   "name": "python3"
  },
  "language_info": {
   "codemirror_mode": {
    "name": "ipython",
    "version": 3
   },
   "file_extension": ".py",
   "mimetype": "text/x-python",
   "name": "python",
   "nbconvert_exporter": "python",
   "pygments_lexer": "ipython3",
   "version": "3.7.4"
  }
 },
 "nbformat": 4,
 "nbformat_minor": 4
}
