{
 "cells": [
  {
   "cell_type": "markdown",
   "metadata": {},
   "source": [
    "# Setup for solar simulation"
   ]
  },
  {
   "cell_type": "markdown",
   "metadata": {},
   "source": [
    "The ``experiments/stellar_atmosphere`` has so far been available only in the development version of DISPATCH.   In order not to disturb the other HandsOn examples, it has been added on a separate ``ias`` branch, where all source files needed are identical to the ones in the development branch.  "
   ]
  },
  {
   "cell_type": "markdown",
   "metadata": {},
   "source": [
    "To access the ``ias`` branch, do -- __on the login1 frontend__:"
   ]
  },
  {
   "cell_type": "raw",
   "metadata": {},
   "source": [
    "$ cd codes/dispatch      # (or wherever you have DISPATCH)\n",
    "$ git stash\n",
    "$ git pull\n",
    "$ git checkout ias\n",
    "$ git stash pop\n",
    "$ cd experiments/stellar_atmospheres\n",
    "$ module purge\n",
    "$ module load intel impi\n",
    "$ make COMPILER=ifort -j"
   ]
  },
  {
   "cell_type": "markdown",
   "metadata": {},
   "source": [
    "The Intel license should be OK, without having to set the port we used before.  If this is not the case, ask Nikola what to do."
   ]
  },
  {
   "cell_type": "markdown",
   "metadata": {},
   "source": [
    "### In case you want to switch back to earlier HandsOn"
   ]
  },
  {
   "cell_type": "markdown",
   "metadata": {},
   "source": [
    "Since there may be issues with running the previous HandsOn cases with perhaps only some files updated, it is safest to switch back to the ``master`` branch if you need to compile again (no need to do this to run an existing ``dispatch.x``, nor to access and visualize)."
   ]
  },
  {
   "cell_type": "markdown",
   "metadata": {},
   "source": [
    "To switch to the master branch and recover local changes, do"
   ]
  },
  {
   "cell_type": "raw",
   "metadata": {},
   "source": [
    "$ git stash\n",
    "$ git checkout master\n",
    "$ git stash pop            # what you might have of local cha"
   ]
  }
 ],
 "metadata": {
  "kernelspec": {
   "display_name": "Python 3 (Spyder)",
   "language": "python3",
   "name": "python3"
  },
  "language_info": {
   "codemirror_mode": {
    "name": "ipython",
    "version": 3
   },
   "file_extension": ".py",
   "mimetype": "text/x-python",
   "name": "python",
   "nbconvert_exporter": "python",
   "pygments_lexer": "ipython3",
   "version": "3.7.1"
  }
 },
 "nbformat": 4,
 "nbformat_minor": 4
}
