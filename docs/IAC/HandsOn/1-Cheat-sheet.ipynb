{
 "cells": [
  {
   "cell_type": "markdown",
   "metadata": {},
   "source": [
    "# Cheat sheet for Jupyter notebook writing"
   ]
  },
  {
   "cell_type": "markdown",
   "metadata": {},
   "source": [
    "## Code and Markdown text"
   ]
  },
  {
   "cell_type": "markdown",
   "metadata": {},
   "source": [
    "Code and text is mixed in a Jupyter notebook.  The text is formatted with the \"markdown\" standard.  Double-clock in a text cell (such as this one), or hit RETURN, to see the markdown code.  "
   ]
  },
  {
   "cell_type": "markdown",
   "metadata": {},
   "source": [
    "Text can contains link, as in http://nbi.ku.dk, and the link can be represented by text, as in the link to the \"Markdown Cheat Sheet\" above."
   ]
  },
  {
   "cell_type": "markdown",
   "metadata": {},
   "source": [
    "The default input cell is a code cell, such as the one below, which is executed on SHIFT-RETURN."
   ]
  },
  {
   "cell_type": "code",
   "execution_count": 10,
   "metadata": {},
   "outputs": [
    {
     "name": "stdout",
     "output_type": "stream",
     "text": [
      "This is how to format numbers in Python:\n",
      "integer:21, with leading zeros:00134, float:1.123456, with 1 decimal place:1.2\n"
     ]
    }
   ],
   "source": [
    "print('This is how to format numbers in Python:')\n",
    "print('integer:{:d}, with leading zeros:{:05d}, float:{:f}, with 1 decimal place:{:.1f}'.format(21,134,1.123456,1.2345))"
   ]
  },
  {
   "cell_type": "markdown",
   "metadata": {},
   "source": [
    "One can switch between code input and text input via the menu \"Markdown\" above, but that gets tiresome, so using keyboard shortcuts is useful"
   ]
  },
  {
   "cell_type": "markdown",
   "metadata": {},
   "source": [
    "Note also that many of the commands in the meny system have shortcuts that are shown there."
   ]
  },
  {
   "cell_type": "markdown",
   "metadata": {},
   "source": [
    "### Commonly used keyboard shortcuts:"
   ]
  },
  {
   "cell_type": "markdown",
   "metadata": {},
   "source": [
    "To change a cell into a text (markdown) cell, ready to type, enter **ESC-M-RETURN**."
   ]
  },
  {
   "cell_type": "markdown",
   "metadata": {},
   "source": [
    "Prepend the text with #, ##, or ### to get header, sub-header, sub-sub-header, etc"
   ]
  },
  {
   "cell_type": "markdown",
   "metadata": {},
   "source": [
    "Prepend text with * to get a bullet list ,like so\n",
    "* item"
   ]
  },
  {
   "cell_type": "markdown",
   "metadata": {},
   "source": [
    "Use one or more of either * or _ to get _italics_ (one), __bold__ (two), or ***bold-italics*** (three)"
   ]
  },
  {
   "cell_type": "markdown",
   "metadata": {},
   "source": [
    "### For a more complete set of keyboard short cuts, see:\n",
    "\n",
    "* [Markdown Cheat Sheet](https://github.com/adam-p/markdown-here/wiki/Markdown-Cheatsheet#links)"
   ]
  }
 ],
 "metadata": {
  "kernelspec": {
   "display_name": "Python 3 (Spyder)",
   "language": "python3",
   "name": "python3"
  },
  "language_info": {
   "codemirror_mode": {
    "name": "ipython",
    "version": 3
   },
   "file_extension": ".py",
   "mimetype": "text/x-python",
   "name": "python",
   "nbconvert_exporter": "python",
   "pygments_lexer": "ipython3",
   "version": "3.7.1"
  }
 },
 "nbformat": 4,
 "nbformat_minor": 4
}
