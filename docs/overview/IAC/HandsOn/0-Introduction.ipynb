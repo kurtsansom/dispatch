{
 "cells": [
  {
   "cell_type": "markdown",
   "metadata": {},
   "source": [
    "# Introduction"
   ]
  },
  {
   "cell_type": "markdown",
   "metadata": {},
   "source": [
    "Use these ``HandsOn`` notebooks as instructions and templates -- copy cells or text to your own notebooks as needed (note that you can copy whole cells via the _Edit_ menu, or use the normal copy & paste of lines or words."
   ]
  },
  {
   "cell_type": "markdown",
   "metadata": {},
   "source": [
    "Keep tabs open in Jupter lab, and refresh when indicated, when instructions are updated"
   ]
  },
  {
   "cell_type": "markdown",
   "metadata": {},
   "source": [
    "## Notebook intro \n",
    "If this is the first time you use Jupyter Notebooks, use the Cheat-sheet notebook to get acquainted, and take a look also at the __Setup__ and __QuickSetup__ notebooks."
   ]
  },
  {
   "cell_type": "markdown",
   "metadata": {},
   "source": [
    "## Install DISPATCH \n",
    "Open a browser on https://dispatch.readthedocs.io, and follow the Installation instructions (behind a firewall).  Note that you also need to create an account at bitbucket.org, if you don't already have one."
   ]
  }
 ],
 "metadata": {
  "kernelspec": {
   "display_name": "Python 3 (Spyder)",
   "language": "python3",
   "name": "python3"
  },
  "language_info": {
   "codemirror_mode": {
    "name": "ipython",
    "version": 3
   },
   "file_extension": ".py",
   "mimetype": "text/x-python",
   "name": "python",
   "nbconvert_exporter": "python",
   "pygments_lexer": "ipython3",
   "version": "3.7.1"
  }
 },
 "nbformat": 4,
 "nbformat_minor": 4
}
