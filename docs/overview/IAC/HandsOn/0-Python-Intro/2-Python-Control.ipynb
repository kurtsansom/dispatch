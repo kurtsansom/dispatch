{
 "cells": [
  {
   "cell_type": "markdown",
   "metadata": {},
   "source": [
    "# 2. Python Control Constructs"
   ]
  },
  {
   "cell_type": "markdown",
   "metadata": {},
   "source": [
    "Evaluate the active cells in this notebook (use `shift+Enter` or the \"Play\" icon in the notebook menu bar), while reading, to see the outcome of the various code snippets.  At the end of the Notebook there is Task section, with an Absalon turn-in."
   ]
  },
  {
   "cell_type": "markdown",
   "metadata": {},
   "source": [
    "## For loops"
   ]
  },
  {
   "cell_type": "markdown",
   "metadata": {},
   "source": [
    "For loops have this syntax -- note the colon and the (automatic) indentation:"
   ]
  },
  {
   "cell_type": "code",
   "execution_count": null,
   "metadata": {},
   "outputs": [],
   "source": [
    "n=10\n",
    "for i in range(n):\n",
    "    print(i,i**0.2)"
   ]
  },
  {
   "cell_type": "markdown",
   "metadata": {},
   "source": [
    "range() is a built-in _generator_; a _thing_ that can generate a range of numbers (but that _isn't_ an actual range of numbers, just a generator for it).  Hence you can ask for a billion numbers to be generatded in a for loop, without actually using the memory that would be needed to hold a billion numbers."
   ]
  },
  {
   "cell_type": "code",
   "execution_count": null,
   "metadata": {},
   "outputs": [],
   "source": [
    "range(2,n)"
   ]
  },
  {
   "cell_type": "markdown",
   "metadata": {},
   "source": [
    "By itself, `range()` is just an expression (a \"generator\"). But the generator can also produce an actual list, or an array:"
   ]
  },
  {
   "cell_type": "code",
   "execution_count": null,
   "metadata": {},
   "outputs": [],
   "source": [
    "list(range(2,n))"
   ]
  },
  {
   "cell_type": "code",
   "execution_count": null,
   "metadata": {},
   "outputs": [],
   "source": [
    "from numpy import array\n",
    "array(range(3,n,2))"
   ]
  },
  {
   "cell_type": "markdown",
   "metadata": {},
   "source": [
    "The `arange()` generator spits out floating point numbers, for example (note that -- as with `range()` -- the 2nd range limit is not included; this is consistent with the [a,b) math notation, and also gives in this example (2.0 - 1.0) / 0.1 elements"
   ]
  },
  {
   "cell_type": "code",
   "execution_count": null,
   "metadata": {},
   "outputs": [],
   "source": [
    "from numpy import arange\n",
    "array(arange(1.0,2.0,0.1))"
   ]
  },
  {
   "cell_type": "markdown",
   "metadata": {},
   "source": [
    "In fact, any such \"iterator\" -- a generator, a list, a tuple, etc -- can stand after the __in__ in a __for__ loop."
   ]
  },
  {
   "cell_type": "markdown",
   "metadata": {},
   "source": [
    "## While loops"
   ]
  },
  {
   "cell_type": "markdown",
   "metadata": {},
   "source": [
    "A __while__ loops kees running until the condition after the `while` is false:"
   ]
  },
  {
   "cell_type": "code",
   "execution_count": null,
   "metadata": {},
   "outputs": [],
   "source": [
    "n=1\n",
    "while n < 1100:\n",
    "    print(n)\n",
    "    n *= 2"
   ]
  },
  {
   "cell_type": "markdown",
   "metadata": {},
   "source": [
    "## Breaking out of loops"
   ]
  },
  {
   "cell_type": "markdown",
   "metadata": {},
   "source": [
    "Sometimes one wants to break out of a loop before it is finished, based on some test.  This is done with a __break__ instruction.  Here's an example, giving the first N-faculty (N!) larger than a hundred thousand"
   ]
  },
  {
   "cell_type": "code",
   "execution_count": null,
   "metadata": {},
   "outputs": [],
   "source": [
    "a=1\n",
    "a_max=10**5\n",
    "for i in range(2,109):\n",
    "    a=a*i\n",
    "    if a>a_max:\n",
    "        break\n",
    "print(i,a)"
   ]
  },
  {
   "cell_type": "markdown",
   "metadata": {},
   "source": [
    "Surprisingly few loops, right? "
   ]
  },
  {
   "cell_type": "markdown",
   "metadata": {},
   "source": [
    "## Conditional constructs"
   ]
  },
  {
   "cell_type": "markdown",
   "metadata": {},
   "source": [
    "The syntax of __if statements__ in Python is"
   ]
  },
  {
   "cell_type": "code",
   "execution_count": null,
   "metadata": {},
   "outputs": [],
   "source": [
    "condition=[False,False,False,False,True]\n",
    "if condition[0]:\n",
    "    print('code 0')\n",
    "elif condition[1]:\n",
    "    print('code 1')\n",
    "elif condition[2]:\n",
    "    print('code 2')\n",
    "else:\n",
    "    print('code 3')"
   ]
  },
  {
   "cell_type": "markdown",
   "metadata": {},
   "source": [
    "As always in Python, conditional blocks begin after a colon at the end of a line, and are set aside by indentation only -- no  _begin/end_ pairs or curly brackets are used. _It is therefore extremely important to keep track of the indentation of your code, because results depend on it._"
   ]
  },
  {
   "cell_type": "markdown",
   "metadata": {},
   "source": [
    "A condition may also be used in direct assignments:"
   ]
  },
  {
   "cell_type": "code",
   "execution_count": null,
   "metadata": {},
   "outputs": [],
   "source": [
    "a=12 if condition[1] else 11\n",
    "a"
   ]
  },
  {
   "cell_type": "markdown",
   "metadata": {},
   "source": [
    "## Comprehension"
   ]
  },
  {
   "cell_type": "markdown",
   "metadata": {},
   "source": [
    "A _comprehension_ is compact way to make a new _list_, which is a function of or selection from an existing _list_ (or _iterator_).  It looks like this:"
   ]
  },
  {
   "cell_type": "code",
   "execution_count": null,
   "metadata": {},
   "outputs": [],
   "source": [
    "a = [1,3,4,8,5,3,2,4,6,3]\n",
    "b = [x**2 for x in a]\n",
    "print(b)"
   ]
  },
  {
   "cell_type": "markdown",
   "metadata": {},
   "source": [
    "That example produces a one-to-one mapping of a list to a new one of the same lengt. A _selection_ is made by adding an `if` expression:"
   ]
  },
  {
   "cell_type": "code",
   "execution_count": null,
   "metadata": {},
   "outputs": [],
   "source": [
    "c = [x for x in a if 2*(x//2)==x]\n",
    "print(c)"
   ]
  },
  {
   "cell_type": "markdown",
   "metadata": {},
   "source": [
    "### __Task:__"
   ]
  },
  {
   "cell_type": "markdown",
   "metadata": {},
   "source": [
    "The task is to make a for-loop construct that produce a list of all primes smaller than a thousand, using for example code like this:"
   ]
  },
  {
   "cell_type": "markdown",
   "metadata": {},
   "source": [
    "```\n",
    "list=[]\n",
    "for i in range(2,1000):\n",
    "    ok=True\n",
    "    ...\n",
    "    if ok:\n",
    "        list.append(i)\n",
    "    i=i+1\n",
    "print(list)\n",
    "``` "
   ]
  },
  {
   "cell_type": "markdown",
   "metadata": {},
   "source": [
    "Hints:\n",
    " 1. A number is a prime if it is not divisible by any prime smaller than itself\n",
    " 2. In Python 3, the expression `11/2` gives `5.5`, while `11//2` (integer arithmetics) gives 5"
   ]
  },
  {
   "cell_type": "markdown",
   "metadata": {},
   "source": [
    "### __Absalon turn in:__"
   ]
  },
  {
   "cell_type": "markdown",
   "metadata": {},
   "source": [
    "   1. Upload the notebook\n",
    "   2. Paste the printout of the list into the Absalon text field"
   ]
  },
  {
   "cell_type": "markdown",
   "metadata": {},
   "source": [
    "## Next"
   ]
  },
  {
   "cell_type": "markdown",
   "metadata": {},
   "source": [
    "When you have reached this point you are ready to open the __1d Python Standard Libraries__ notebook, to learn about libraries. __NOTE__: Make sure to open the copy of this notebook in your own file space, not the original (read-only) copy in the course file space."
   ]
  }
 ],
 "metadata": {
  "kernelspec": {
   "display_name": "Python 3",
   "language": "python",
   "name": "python3"
  },
  "language_info": {
   "codemirror_mode": {
    "name": "ipython",
    "version": 3
   },
   "file_extension": ".py",
   "mimetype": "text/x-python",
   "name": "python",
   "nbconvert_exporter": "python",
   "pygments_lexer": "ipython3",
   "version": "3.7.4"
  }
 },
 "nbformat": 4,
 "nbformat_minor": 4
}
