{
 "cells": [
  {
   "cell_type": "markdown",
   "metadata": {},
   "source": [
    "# Potential field extrapolation"
   ]
  },
  {
   "cell_type": "markdown",
   "metadata": {},
   "source": [
    "This notebook shows how to continue a magnetic field from a certain level from a certain level.   Note that here the field is random below that point, while in a real case the field should already be close to potential, to avoud artificial currents at the interface."
   ]
  },
  {
   "cell_type": "markdown",
   "metadata": {},
   "source": [
    "We need FFTs and random numbers"
   ]
  },
  {
   "cell_type": "code",
   "execution_count": 1,
   "metadata": {},
   "outputs": [],
   "source": [
    "import numpy as np\n",
    "from numpy import fft, random"
   ]
  },
  {
   "cell_type": "code",
   "execution_count": 2,
   "metadata": {},
   "outputs": [
    {
     "data": {
      "text/plain": [
       "0.33963453133695404"
      ]
     },
     "execution_count": 2,
     "metadata": {},
     "output_type": "execute_result"
    }
   ],
   "source": [
    "n=16\n",
    "b=random.random((3,n,n,n))\n",
    "(b**2).mean()"
   ]
  },
  {
   "cell_type": "markdown",
   "metadata": {},
   "source": [
    "Check that the norm is conserved"
   ]
  },
  {
   "cell_type": "code",
   "execution_count": 3,
   "metadata": {},
   "outputs": [
    {
     "data": {
      "text/plain": [
       "(0.33963453133695404+0j)"
      ]
     },
     "execution_count": 3,
     "metadata": {},
     "output_type": "execute_result"
    }
   ],
   "source": [
    "b2=fft.ifft2(fft.fft2(b))\n",
    "(b2**2).mean()"
   ]
  },
  {
   "cell_type": "markdown",
   "metadata": {},
   "source": [
    "Get the wavenumbers, corresponding to a box of size 1."
   ]
  },
  {
   "cell_type": "code",
   "execution_count": 4,
   "metadata": {},
   "outputs": [
    {
     "data": {
      "text/plain": [
       "array([  0.        ,   6.28318531,  12.56637061,  18.84955592,\n",
       "        25.13274123,  31.41592654,  37.69911184,  43.98229715,\n",
       "       -50.26548246, -43.98229715, -37.69911184, -31.41592654,\n",
       "       -25.13274123, -18.84955592, -12.56637061,  -6.28318531])"
      ]
     },
     "execution_count": 4,
     "metadata": {},
     "output_type": "execute_result"
    }
   ],
   "source": [
    "k=fft.fftfreq(n)*n*2*np.pi\n",
    "k"
   ]
  },
  {
   "cell_type": "markdown",
   "metadata": {},
   "source": [
    "Set the boundary level to 12"
   ]
  },
  {
   "cell_type": "code",
   "execution_count": 6,
   "metadata": {},
   "outputs": [
    {
     "data": {
      "text/plain": [
       "(16, 16)"
      ]
     },
     "execution_count": 6,
     "metadata": {},
     "output_type": "execute_result"
    }
   ],
   "source": [
    "i2_bdry=12\n",
    "bx=b[0,:,:,:]\n",
    "by=b[1,:,:,:]\n",
    "bz=b[2,:,:,:]\n",
    "bz0=bz[:,:,i2_bdry]\n",
    "bz0.shape"
   ]
  },
  {
   "cell_type": "markdown",
   "metadata": {},
   "source": [
    "The extrapolation is based on the FFT of Bz at the boundary:"
   ]
  },
  {
   "cell_type": "code",
   "execution_count": 7,
   "metadata": {},
   "outputs": [],
   "source": [
    "bz0_fft=fft.fft2(bz0)"
   ]
  },
  {
   "cell_type": "markdown",
   "metadata": {},
   "source": [
    "Compute the vertical and horizontal components of the potential field"
   ]
  },
  {
   "cell_type": "code",
   "execution_count": 12,
   "metadata": {},
   "outputs": [
    {
     "name": "stdout",
     "output_type": "stream",
     "text": [
      "12 0.43968778889096477\n",
      "13 0.07845772695745062\n",
      "14 0.027696464673548294\n",
      "15 0.01182834668111939\n"
     ]
    }
   ],
   "source": [
    "bx_fft=np.zeros((n,n),dtype=np.complex)\n",
    "by_fft=np.zeros((n,n),dtype=np.complex)\n",
    "bz_fft=np.zeros((n,n),dtype=np.complex)\n",
    "kk=np.zeros((n,n))\n",
    "dz=1/n\n",
    "for i2 in range(i2_bdry,n):\n",
    "    for i1 in range(n):\n",
    "        k1=k[i1]\n",
    "        for i0 in range(n):\n",
    "            k0=k[i0]\n",
    "            k2=np.sqrt(k0**2+k1**2)\n",
    "            bz_fft[i0,i1]=bz0_fft[i0,i1]*np.exp(-k2*dz*(i2-i2_bdry))\n",
    "            if k2>0:\n",
    "                phi=-bz_fft[i0,i1]/k2\n",
    "            else:\n",
    "                phi=0.0\n",
    "            bx_fft[i0,i1]=1j*k0*phi\n",
    "            by_fft[i0,i1]=1j*k1*phi\n",
    "            kk[i0,i1]=k2\n",
    "            #print(i2,k0,k1,bx_fft[i0,i1])\n",
    "    bx[:,:,i2]=np.real(fft.ifft2(bx_fft))\n",
    "    by[:,:,i2]=np.real(fft.ifft2(by_fft))\n",
    "    bz[:,:,i2]=np.real(fft.ifft2(bz_fft))\n",
    "    print(i2,bx[:,:,i2].max())"
   ]
  },
  {
   "cell_type": "markdown",
   "metadata": {},
   "source": [
    "Bz(z) become smoother with height, as high-k components are damped out"
   ]
  },
  {
   "cell_type": "code",
   "execution_count": 11,
   "metadata": {},
   "outputs": [
    {
     "data": {
      "image/png": "[encoded data removed]",
      "text/plain": [
       "<Figure size 864x360 with 3 Axes>"
      ]
     },
     "metadata": {},
     "output_type": "display_data"
    }
   ],
   "source": [
    "import pylab as pl\n",
    "pl.figure(figsize=(12,5))\n",
    "pl.subplot(1,3,1)\n",
    "pl.imshow(bz[:,:,13].T,origin='lower'); pl.title('Bz(13)');\n",
    "pl.subplot(1,3,2)\n",
    "pl.imshow(bz[:,:,14].T,origin='lower'); pl.title('Bz(14)');\n",
    "pl.subplot(1,3,3)\n",
    "pl.imshow(bz[:,:,15].T,origin='lower'); pl.title('Bz(15)');"
   ]
  },
  {
   "cell_type": "markdown",
   "metadata": {},
   "source": [
    "Verify that the signs of Bx and By are correct, relative to decreasing Bz"
   ]
  },
  {
   "cell_type": "code",
   "execution_count": 10,
   "metadata": {},
   "outputs": [
    {
     "data": {
      "image/png": "[encoded data removed]",
      "text/plain": [
       "<Figure size 864x360 with 3 Axes>"
      ]
     },
     "metadata": {},
     "output_type": "display_data"
    }
   ],
   "source": [
    "pl.figure(figsize=(12,5))\n",
    "pl.subplot(1,3,1)\n",
    "pl.imshow(bx[:,:,15].T,origin='lower'); pl.title('Bx');\n",
    "pl.subplot(1,3,2)\n",
    "pl.imshow(by[:,:,15].T,origin='lower'); pl.title('By');\n",
    "pl.subplot(1,3,3)\n",
    "pl.imshow(bz[:,:,15].T,origin='lower'); pl.title('Bz');"
   ]
  },
  {
   "cell_type": "markdown",
   "metadata": {},
   "source": [
    "**NOTE 1**: If derivatives of B are needed, they can of course be obtained from finite differences, but also analytically"
   ]
  },
  {
   "cell_type": "markdown",
   "metadata": {},
   "source": [
    "**NOTE 2**: If the field is only for use in guard zones it shold be fine as is, but if it is to be made compatible with a numerical div(B)=0 requirement one can leave the horizontal components as they are, and adjust the Bz field to make it exactly div-free"
   ]
  }
 ],
 "metadata": {
  "kernelspec": {
   "display_name": "Python 3 (Spyder)",
   "language": "python3",
   "name": "python3"
  },
  "language_info": {
   "codemirror_mode": {
    "name": "ipython",
    "version": 3
   },
   "file_extension": ".py",
   "mimetype": "text/x-python",
   "name": "python",
   "nbconvert_exporter": "python",
   "pygments_lexer": "ipython3",
   "version": "3.7.1"
  }
 },
 "nbformat": 4,
 "nbformat_minor": 2
}
