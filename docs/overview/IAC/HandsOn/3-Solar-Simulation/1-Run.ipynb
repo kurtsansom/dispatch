{
 "cells": [
  {
   "cell_type": "markdown",
   "metadata": {},
   "source": [
    "# Running the solar simulation"
   ]
  },
  {
   "cell_type": "markdown",
   "metadata": {},
   "source": [
    "You can run the solar simulation most efficiently on the frontend, where by default it runs on 16 cores, and the 30+ solar second default run defined in ``input.nml`` takes only about 45 seconds clock time, or about 30 seconds if not saving output (``do_output=f``)."
   ]
  },
  {
   "cell_type": "markdown",
   "metadata": {},
   "source": [
    "### Running on a cluster node"
   ]
  },
  {
   "cell_type": "markdown",
   "metadata": {},
   "source": [
    "However, to make longer runs (after copying ``input.nml`` to ``myrun.nml``), you should probably instead use the dedicated node.  When doing so, you should explicitly ask for one node (``-N 1``) and 16 cores (``-c 16``), so do"
   ]
  },
  {
   "cell_type": "raw",
   "metadata": {},
   "source": [
    "$ salloc --time=120 -N 1 -c 16\n",
    "... find the directory ...\n",
    "$ cp input.nml myrun.nml\n",
    "... edit myrun.nml ...\n",
    "$ ./dispatch.x myrun.nml | tee myrun.log"
   ]
  },
  {
   "cell_type": "markdown",
   "metadata": {},
   "source": [
    "You might possibly see some error messages before the expected ``end_time`` is reached -- these may be safely ignored; at most, the final snapshot may be incomplete."
   ]
  },
  {
   "cell_type": "markdown",
   "metadata": {},
   "source": [
    "### MHD -- Magnetic fields "
   ]
  },
  {
   "cell_type": "markdown",
   "metadata": {},
   "source": [
    "The solver (option ``SOLVER=stagger2/e`` in the ``Makefile``) is an MHD solver, and will add the 3 MHD variables (``'b1','b2','b3'`` or ``'bx','by','bz'``) to the output file if a magnetic field is present initially."
   ]
  },
  {
   "cell_type": "markdown",
   "metadata": {},
   "source": [
    "To add a constant vertical magnetic field to the initial state, change to ``b0=1`` in the input file. Conveniently, one code unit is about 1 kiloGauss (a bit more), so you can choose any value of order one or smaller."
   ]
  }
 ],
 "metadata": {
  "kernelspec": {
   "display_name": "Python 3 (Spyder)",
   "language": "python3",
   "name": "python3"
  },
  "language_info": {
   "codemirror_mode": {
    "name": "ipython",
    "version": 3
   },
   "file_extension": ".py",
   "mimetype": "text/x-python",
   "name": "python",
   "nbconvert_exporter": "python",
   "pygments_lexer": "ipython3",
   "version": "3.7.1"
  }
 },
 "nbformat": 4,
 "nbformat_minor": 4
}
