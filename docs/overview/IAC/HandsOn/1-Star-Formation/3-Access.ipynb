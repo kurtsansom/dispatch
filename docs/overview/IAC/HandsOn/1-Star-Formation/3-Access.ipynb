{
 "cells": [
  {
   "cell_type": "markdown",
   "metadata": {},
   "source": [
    "# Access and Visualize"
   ]
  },
  {
   "cell_type": "markdown",
   "metadata": {},
   "source": [
    "Access and visualization is as per the https://dispatch.readthedocs.io web, but more specific examples are given here.\n",
    "\n",
    "__The recommended way to use this notebook is to copy the file (with the Jupyter Lab file manager) to one of your own direcories, and then remove all cell output (context menu \"Clear All Outputs\"), and then walk through it, executing the cells, and considering what they do__"
   ]
  },
  {
   "cell_type": "markdown",
   "metadata": {},
   "source": [
    "### Setup"
   ]
  },
  {
   "cell_type": "markdown",
   "metadata": {},
   "source": [
    "To setup the Python path and go to the experiment directory, use for example a copy & paste from the ``QuickSetup for Python`` notebook (modify as needed):"
   ]
  },
  {
   "cell_type": "code",
   "execution_count": 1,
   "metadata": {},
   "outputs": [],
   "source": [
    "import os\n",
    "import sys\n",
    "TOP=os.environ['HOME']+'/codes/dispatch/'\n",
    "sys.path.append(TOP+'utilities/python')\n",
    "import dispatch\n",
    "import dispatch.select   as dse\n",
    "import dispatch.graphics as dgr\n",
    "os.chdir(TOP+'experiments/pan')"
   ]
  },
  {
   "cell_type": "markdown",
   "metadata": {},
   "source": [
    "### Open a snapshot"
   ]
  },
  {
   "cell_type": "markdown",
   "metadata": {},
   "source": [
    "Open a snapshot and investigate -- try typing ``sn.t<TAB>``, or ``sn.ti<TAB>`` to see tab-expand at work"
   ]
  },
  {
   "cell_type": "code",
   "execution_count": 2,
   "metadata": {},
   "outputs": [],
   "source": [
    "sn=dispatch.snapshot(2,run='myrun')"
   ]
  },
  {
   "cell_type": "code",
   "execution_count": 3,
   "metadata": {},
   "outputs": [
    {
     "data": {
      "text/plain": [
       "0.05"
      ]
     },
     "execution_count": 3,
     "metadata": {},
     "output_type": "execute_result"
    }
   ],
   "source": [
    "sn.time"
   ]
  },
  {
   "cell_type": "markdown",
   "metadata": {},
   "source": [
    "To show all metadata (you may want to \"Enable scrolling for outputs\" from the context menu, or just scroll over the long output), or else just click the \"blue bar\" on the left to fold the output."
   ]
  },
  {
   "cell_type": "code",
   "execution_count": 6,
   "metadata": {
    "scrolled": true
   },
   "outputs": [
    {
     "data": {
      "text/plain": [
       "{'copy': False,\n",
       " 'rundir': 'data/myrun',\n",
       " 'nml_list': Namelist([('io_nml',\n",
       "            Namelist([('format', 11),\n",
       "                      ('ntotal', 512),\n",
       "                      ('out_time', 0.025),\n",
       "                      ('guard_zones', False),\n",
       "                      ('time_derivs', 0),\n",
       "                      ('method', 'parallel')])),\n",
       "           ('snapshot_nml',\n",
       "            Namelist([('ioformat', 11),\n",
       "                      ('iout', 2),\n",
       "                      ('time', 0.05),\n",
       "                      ('ntotal', 512),\n",
       "                      ('istep', 78),\n",
       "                      ('mesh_type', 1),\n",
       "                      ('position', array([0.9375, 0.0625, 0.6875])),\n",
       "                      ('size', array([0.125, 0.125, 0.125])),\n",
       "                      ('ds', array([0.0078125, 0.0078125, 0.0078125])),\n",
       "                      ('box', array([1., 1., 1.])),\n",
       "                      ('velocity', array([0., 0., 0.])),\n",
       "                      ('level', 7),\n",
       "                      ('quality', 0.0),\n",
       "                      ('gamma', 1.0),\n",
       "                      ('ncell', array([16, 16, 16])),\n",
       "                      ('li', array([0, 0, 0])),\n",
       "                      ('ui', array([15, 15, 15])),\n",
       "                      ('n', array([16, 16, 16])),\n",
       "                      ('ng', array([2, 2, 2])),\n",
       "                      ('gn', array([20, 20, 20])),\n",
       "                      ('nv', 5),\n",
       "                      ('nt', 5),\n",
       "                      ('nw', 1),\n",
       "                      ('kind', 'ramses_hd_patch'),\n",
       "                      ('eos', 'ideal'),\n",
       "                      ('opacity', 'none'),\n",
       "                      ('periodic', array([ True,  True,  True])),\n",
       "                      ('guard_zones', False),\n",
       "                      ('time_derivs', 0),\n",
       "                      ('no_mans_land', True)])),\n",
       "           ('idx_nml',\n",
       "            Namelist([('d', 0),\n",
       "                      ('e', 4),\n",
       "                      ('et', -1),\n",
       "                      ('s', 4),\n",
       "                      ('px', 1),\n",
       "                      ('py', 2),\n",
       "                      ('pz', 3),\n",
       "                      ('bx', -2),\n",
       "                      ('by', -2),\n",
       "                      ('bz', -2),\n",
       "                      ('qr', -1),\n",
       "                      ('tt', -1),\n",
       "                      ('phi', -1),\n",
       "                      ('p1', 1),\n",
       "                      ('p2', 2),\n",
       "                      ('p3', 3),\n",
       "                      ('b1', -2),\n",
       "                      ('b2', -2),\n",
       "                      ('b3', -2)])),\n",
       "           ('units_nml',\n",
       "            Namelist([('system', 'code'),\n",
       "                      ('l', 1.0),\n",
       "                      ('t', 1.0),\n",
       "                      ('m', 1.0)])),\n",
       "           ('time_slices_params',\n",
       "            Namelist([('verbose', 0), ('order', 1), ('id_debug', 0)])),\n",
       "           ('cartesian_params',\n",
       "            Namelist([('size', [1.0, 1.0, 1.0]),\n",
       "                      ('dims', [8, 8, 8]),\n",
       "                      ('mpi_dims', [1, 1, 1]),\n",
       "                      ('per_rank', [8, 8, 4]),\n",
       "                      ('origin', [0.0, 0.0, 0.0]),\n",
       "                      ('face_nbors', False),\n",
       "                      ('omp_init', False)]))]),\n",
       " 'io': <dispatch._dispatch._param at 0x2aaf83921e90>,\n",
       " 'ioformat': 11,\n",
       " 'iout': 2,\n",
       " 'time': 0.05,\n",
       " 'ntotal': 512,\n",
       " 'istep': 78,\n",
       " 'mesh_type': 1,\n",
       " 'position': [0.9375, 0.0625, 0.6875],\n",
       " 'size': [0.125, 0.125, 0.125],\n",
       " 'ds': [0.0078125, 0.0078125, 0.0078125],\n",
       " 'box': [1.0, 1.0, 1.0],\n",
       " 'velocity': [0.0, 0.0, 0.0],\n",
       " 'level': 7,\n",
       " 'quality': 0.0,\n",
       " 'gamma': 1.0,\n",
       " 'ncell': [16, 16, 16],\n",
       " 'li': [3, 3, 3],\n",
       " 'ui': [18, 18, 18],\n",
       " 'n': [16, 16, 16],\n",
       " 'ng': [2, 2, 2],\n",
       " 'gn': [20, 20, 20],\n",
       " 'nv': 5,\n",
       " 'nt': 5,\n",
       " 'nw': 1,\n",
       " 'kind': 'ramses_hd_patch',\n",
       " 'eos': 'ideal',\n",
       " 'opacity': 'none',\n",
       " 'periodic': [True, True, True],\n",
       " 'guard_zones': False,\n",
       " 'time_derivs': 0,\n",
       " 'no_mans_land': True,\n",
       " 'idx': <dispatch._dispatch._obj at 0x2aaf83ca4050>,\n",
       " 'units': <dispatch._dispatch._param at 0x2aaf8451d3d0>,\n",
       " 'time_slices': <dispatch._dispatch._param at 0x2aaf8451d4d0>,\n",
       " 'cartesian': <dispatch._dispatch._param at 0x2aaf8451d590>,\n",
       " 'keys': [0, 'd', 4, 'e', 1, 'px', 2, 'py', 3, 'pz'],\n",
       " 'datafile': 'data/myrun/snapshots.dat',\n",
       " 'datafiled': <_io.BufferedReader name='data/myrun/snapshots.dat'>,\n",
       " 'dict': Namelist([('ioformat', 11),\n",
       "           ('iout', 2),\n",
       "           ('time', 0.05),\n",
       "           ('ntotal', 512),\n",
       "           ('istep', 78),\n",
       "           ('mesh_type', 1),\n",
       "           ('position', array([0.9375, 0.0625, 0.6875])),\n",
       "           ('size', array([0.125, 0.125, 0.125])),\n",
       "           ('ds', array([0.0078125, 0.0078125, 0.0078125])),\n",
       "           ('box', array([1., 1., 1.])),\n",
       "           ('velocity', array([0., 0., 0.])),\n",
       "           ('level', 7),\n",
       "           ('quality', 0.0),\n",
       "           ('gamma', 1.0),\n",
       "           ('ncell', array([16, 16, 16])),\n",
       "           ('li', array([0, 0, 0])),\n",
       "           ('ui', array([15, 15, 15])),\n",
       "           ('n', array([16, 16, 16])),\n",
       "           ('ng', array([2, 2, 2])),\n",
       "           ('gn', array([20, 20, 20])),\n",
       "           ('nv', 5),\n",
       "           ('nt', 5),\n",
       "           ('nw', 1),\n",
       "           ('kind', 'ramses_hd_patch'),\n",
       "           ('eos', 'ideal'),\n",
       "           ('opacity', 'none'),\n",
       "           ('periodic', array([ True,  True,  True])),\n",
       "           ('guard_zones', False),\n",
       "           ('time_derivs', 0),\n",
       "           ('no_mans_land', True)]),\n",
       " 'patches': [<dispatch._dispatch._patch at 0x2aaf5bca1310>,\n",
       "  <dispatch._dispatch._patch at 0x2aaf83abe110>,\n",
       "  <dispatch._dispatch._patch at 0x2aaf5e785590>,\n",
       "  <dispatch._dispatch._patch at 0x2aaf8451d550>,\n",
       "  <dispatch._dispatch._patch at 0x2aaf8451d8d0>,\n",
       "  <dispatch._dispatch._patch at 0x2aaf8451dcd0>,\n",
       "  <dispatch._dispatch._patch at 0x2aaf8451df90>,\n",
       "  <dispatch._dispatch._patch at 0x2aaf84524310>,\n",
       "  <dispatch._dispatch._patch at 0x2aaf84524510>,\n",
       "  <dispatch._dispatch._patch at 0x2aaf8451dc90>,\n",
       "  <dispatch._dispatch._patch at 0x2aaf84524c50>,\n",
       "  <dispatch._dispatch._patch at 0x2aaf84524f10>,\n",
       "  <dispatch._dispatch._patch at 0x2aaf5ea80290>,\n",
       "  <dispatch._dispatch._patch at 0x2aaf84528110>,\n",
       "  <dispatch._dispatch._patch at 0x2aaf84528510>,\n",
       "  <dispatch._dispatch._patch at 0x2aaf845287d0>,\n",
       "  <dispatch._dispatch._patch at 0x2aaf8452bdd0>,\n",
       "  <dispatch._dispatch._patch at 0x2aaf84578110>,\n",
       "  <dispatch._dispatch._patch at 0x2aaf84578410>,\n",
       "  <dispatch._dispatch._patch at 0x2aaf84578710>,\n",
       "  <dispatch._dispatch._patch at 0x2aaf84578a10>,\n",
       "  <dispatch._dispatch._patch at 0x2aaf84578d10>,\n",
       "  <dispatch._dispatch._patch at 0x2aaf84580050>,\n",
       "  <dispatch._dispatch._patch at 0x2aaf84580350>,\n",
       "  <dispatch._dispatch._patch at 0x2aaf84580650>,\n",
       "  <dispatch._dispatch._patch at 0x2aaf84580950>,\n",
       "  <dispatch._dispatch._patch at 0x2aaf84580c50>,\n",
       "  <dispatch._dispatch._patch at 0x2aaf84580f50>,\n",
       "  <dispatch._dispatch._patch at 0x2aaf84587290>,\n",
       "  <dispatch._dispatch._patch at 0x2aaf84587590>,\n",
       "  <dispatch._dispatch._patch at 0x2aaf84587890>,\n",
       "  <dispatch._dispatch._patch at 0x2aaf84587b90>,\n",
       "  <dispatch._dispatch._patch at 0x2aaf84587e90>,\n",
       "  <dispatch._dispatch._patch at 0x2aaf8458e1d0>,\n",
       "  <dispatch._dispatch._patch at 0x2aaf8458e4d0>,\n",
       "  <dispatch._dispatch._patch at 0x2aaf8458e7d0>,\n",
       "  <dispatch._dispatch._patch at 0x2aaf8458ead0>,\n",
       "  <dispatch._dispatch._patch at 0x2aaf8458edd0>,\n",
       "  <dispatch._dispatch._patch at 0x2aaf84594110>,\n",
       "  <dispatch._dispatch._patch at 0x2aaf84594410>,\n",
       "  <dispatch._dispatch._patch at 0x2aaf84594710>,\n",
       "  <dispatch._dispatch._patch at 0x2aaf84594a10>,\n",
       "  <dispatch._dispatch._patch at 0x2aaf84594d10>,\n",
       "  <dispatch._dispatch._patch at 0x2aaf8459c050>,\n",
       "  <dispatch._dispatch._patch at 0x2aaf8459c350>,\n",
       "  <dispatch._dispatch._patch at 0x2aaf8459c650>,\n",
       "  <dispatch._dispatch._patch at 0x2aaf8459c950>,\n",
       "  <dispatch._dispatch._patch at 0x2aaf8459cc50>,\n",
       "  <dispatch._dispatch._patch at 0x2aaf8459cf50>,\n",
       "  <dispatch._dispatch._patch at 0x2aaf845a3290>,\n",
       "  <dispatch._dispatch._patch at 0x2aaf845a3590>,\n",
       "  <dispatch._dispatch._patch at 0x2aaf845a3890>,\n",
       "  <dispatch._dispatch._patch at 0x2aaf845a3b90>,\n",
       "  <dispatch._dispatch._patch at 0x2aaf845a3e90>,\n",
       "  <dispatch._dispatch._patch at 0x2aaf845ab1d0>,\n",
       "  <dispatch._dispatch._patch at 0x2aaf845ab4d0>,\n",
       "  <dispatch._dispatch._patch at 0x2aaf845ab7d0>,\n",
       "  <dispatch._dispatch._patch at 0x2aaf845abad0>,\n",
       "  <dispatch._dispatch._patch at 0x2aaf845abdd0>,\n",
       "  <dispatch._dispatch._patch at 0x2aaf845b2110>,\n",
       "  <dispatch._dispatch._patch at 0x2aaf845b2410>,\n",
       "  <dispatch._dispatch._patch at 0x2aaf845b2710>,\n",
       "  <dispatch._dispatch._patch at 0x2aaf845b2a10>,\n",
       "  <dispatch._dispatch._patch at 0x2aaf845b2d10>,\n",
       "  <dispatch._dispatch._patch at 0x2aaf845ba050>,\n",
       "  <dispatch._dispatch._patch at 0x2aaf845ba350>,\n",
       "  <dispatch._dispatch._patch at 0x2aaf845ba650>,\n",
       "  <dispatch._dispatch._patch at 0x2aaf845ba950>,\n",
       "  <dispatch._dispatch._patch at 0x2aaf845bac50>,\n",
       "  <dispatch._dispatch._patch at 0x2aaf845baf50>,\n",
       "  <dispatch._dispatch._patch at 0x2aaf845c1290>,\n",
       "  <dispatch._dispatch._patch at 0x2aaf845c1590>,\n",
       "  <dispatch._dispatch._patch at 0x2aaf845c1890>,\n",
       "  <dispatch._dispatch._patch at 0x2aaf845c1b90>,\n",
       "  <dispatch._dispatch._patch at 0x2aaf845c1e90>,\n",
       "  <dispatch._dispatch._patch at 0x2aaf845c81d0>,\n",
       "  <dispatch._dispatch._patch at 0x2aaf845c84d0>,\n",
       "  <dispatch._dispatch._patch at 0x2aaf845c87d0>,\n",
       "  <dispatch._dispatch._patch at 0x2aaf845c8ad0>,\n",
       "  <dispatch._dispatch._patch at 0x2aaf845c8dd0>,\n",
       "  <dispatch._dispatch._patch at 0x2aaf845ce110>,\n",
       "  <dispatch._dispatch._patch at 0x2aaf845ce410>,\n",
       "  <dispatch._dispatch._patch at 0x2aaf845ce710>,\n",
       "  <dispatch._dispatch._patch at 0x2aaf845cea10>,\n",
       "  <dispatch._dispatch._patch at 0x2aaf845ced10>,\n",
       "  <dispatch._dispatch._patch at 0x2aaf845d6050>,\n",
       "  <dispatch._dispatch._patch at 0x2aaf845d6350>,\n",
       "  <dispatch._dispatch._patch at 0x2aaf845d6650>,\n",
       "  <dispatch._dispatch._patch at 0x2aaf845d6950>,\n",
       "  <dispatch._dispatch._patch at 0x2aaf845d6c50>,\n",
       "  <dispatch._dispatch._patch at 0x2aaf845d6f50>,\n",
       "  <dispatch._dispatch._patch at 0x2aaf845dd290>,\n",
       "  <dispatch._dispatch._patch at 0x2aaf845dd590>,\n",
       "  <dispatch._dispatch._patch at 0x2aaf845dd890>,\n",
       "  <dispatch._dispatch._patch at 0x2aaf845ddb90>,\n",
       "  <dispatch._dispatch._patch at 0x2aaf845dde90>,\n",
       "  <dispatch._dispatch._patch at 0x2aaf845e41d0>,\n",
       "  <dispatch._dispatch._patch at 0x2aaf845e44d0>,\n",
       "  <dispatch._dispatch._patch at 0x2aaf845e47d0>,\n",
       "  <dispatch._dispatch._patch at 0x2aaf845e4ad0>,\n",
       "  <dispatch._dispatch._patch at 0x2aaf845e4dd0>,\n",
       "  <dispatch._dispatch._patch at 0x2aaf845eb110>,\n",
       "  <dispatch._dispatch._patch at 0x2aaf845eb410>,\n",
       "  <dispatch._dispatch._patch at 0x2aaf845eb710>,\n",
       "  <dispatch._dispatch._patch at 0x2aaf845eba10>,\n",
       "  <dispatch._dispatch._patch at 0x2aaf845ebd10>,\n",
       "  <dispatch._dispatch._patch at 0x2aaf845f3050>,\n",
       "  <dispatch._dispatch._patch at 0x2aaf845f3350>,\n",
       "  <dispatch._dispatch._patch at 0x2aaf845f3650>,\n",
       "  <dispatch._dispatch._patch at 0x2aaf845f3950>,\n",
       "  <dispatch._dispatch._patch at 0x2aaf845f3c50>,\n",
       "  <dispatch._dispatch._patch at 0x2aaf845f3f50>,\n",
       "  <dispatch._dispatch._patch at 0x2aaf845fa290>,\n",
       "  <dispatch._dispatch._patch at 0x2aaf845fa590>,\n",
       "  <dispatch._dispatch._patch at 0x2aaf845fa890>,\n",
       "  <dispatch._dispatch._patch at 0x2aaf845fab90>,\n",
       "  <dispatch._dispatch._patch at 0x2aaf845fae90>,\n",
       "  <dispatch._dispatch._patch at 0x2aaf846011d0>,\n",
       "  <dispatch._dispatch._patch at 0x2aaf846014d0>,\n",
       "  <dispatch._dispatch._patch at 0x2aaf846017d0>,\n",
       "  <dispatch._dispatch._patch at 0x2aaf84601ad0>,\n",
       "  <dispatch._dispatch._patch at 0x2aaf84601dd0>,\n",
       "  <dispatch._dispatch._patch at 0x2aaf84607110>,\n",
       "  <dispatch._dispatch._patch at 0x2aaf84607410>,\n",
       "  <dispatch._dispatch._patch at 0x2aaf84607710>,\n",
       "  <dispatch._dispatch._patch at 0x2aaf84607a10>,\n",
       "  <dispatch._dispatch._patch at 0x2aaf84607d10>,\n",
       "  <dispatch._dispatch._patch at 0x2aaf8460f050>,\n",
       "  <dispatch._dispatch._patch at 0x2aaf8460f350>,\n",
       "  <dispatch._dispatch._patch at 0x2aaf8460f650>,\n",
       "  <dispatch._dispatch._patch at 0x2aaf8460f950>,\n",
       "  <dispatch._dispatch._patch at 0x2aaf8460fc50>,\n",
       "  <dispatch._dispatch._patch at 0x2aaf8460ff50>,\n",
       "  <dispatch._dispatch._patch at 0x2aaf84616290>,\n",
       "  <dispatch._dispatch._patch at 0x2aaf84616590>,\n",
       "  <dispatch._dispatch._patch at 0x2aaf84616890>,\n",
       "  <dispatch._dispatch._patch at 0x2aaf84616b90>,\n",
       "  <dispatch._dispatch._patch at 0x2aaf84616e90>,\n",
       "  <dispatch._dispatch._patch at 0x2aaf8461d1d0>,\n",
       "  <dispatch._dispatch._patch at 0x2aaf8461d4d0>,\n",
       "  <dispatch._dispatch._patch at 0x2aaf8461d7d0>,\n",
       "  <dispatch._dispatch._patch at 0x2aaf8461dad0>,\n",
       "  <dispatch._dispatch._patch at 0x2aaf8461ddd0>,\n",
       "  <dispatch._dispatch._patch at 0x2aaf84625110>,\n",
       "  <dispatch._dispatch._patch at 0x2aaf84625410>,\n",
       "  <dispatch._dispatch._patch at 0x2aaf84625710>,\n",
       "  <dispatch._dispatch._patch at 0x2aaf84625a10>,\n",
       "  <dispatch._dispatch._patch at 0x2aaf84625d10>,\n",
       "  <dispatch._dispatch._patch at 0x2aaf8462c050>,\n",
       "  <dispatch._dispatch._patch at 0x2aaf8462c350>,\n",
       "  <dispatch._dispatch._patch at 0x2aaf8462c650>,\n",
       "  <dispatch._dispatch._patch at 0x2aaf8462c950>,\n",
       "  <dispatch._dispatch._patch at 0x2aaf8462cc50>,\n",
       "  <dispatch._dispatch._patch at 0x2aaf8462cf50>,\n",
       "  <dispatch._dispatch._patch at 0x2aaf84634290>,\n",
       "  <dispatch._dispatch._patch at 0x2aaf84634590>,\n",
       "  <dispatch._dispatch._patch at 0x2aaf84634890>,\n",
       "  <dispatch._dispatch._patch at 0x2aaf84634b90>,\n",
       "  <dispatch._dispatch._patch at 0x2aaf84634e90>,\n",
       "  <dispatch._dispatch._patch at 0x2aaf8463b1d0>,\n",
       "  <dispatch._dispatch._patch at 0x2aaf8463b4d0>,\n",
       "  <dispatch._dispatch._patch at 0x2aaf8463b7d0>,\n",
       "  <dispatch._dispatch._patch at 0x2aaf8463bad0>,\n",
       "  <dispatch._dispatch._patch at 0x2aaf8463bdd0>,\n",
       "  <dispatch._dispatch._patch at 0x2aaf84641110>,\n",
       "  <dispatch._dispatch._patch at 0x2aaf84641410>,\n",
       "  <dispatch._dispatch._patch at 0x2aaf84641710>,\n",
       "  <dispatch._dispatch._patch at 0x2aaf84641a10>,\n",
       "  <dispatch._dispatch._patch at 0x2aaf84641d10>,\n",
       "  <dispatch._dispatch._patch at 0x2aaf84649050>,\n",
       "  <dispatch._dispatch._patch at 0x2aaf84649350>,\n",
       "  <dispatch._dispatch._patch at 0x2aaf84649650>,\n",
       "  <dispatch._dispatch._patch at 0x2aaf84649950>,\n",
       "  <dispatch._dispatch._patch at 0x2aaf84649c50>,\n",
       "  <dispatch._dispatch._patch at 0x2aaf84649f50>,\n",
       "  <dispatch._dispatch._patch at 0x2aaf84650290>,\n",
       "  <dispatch._dispatch._patch at 0x2aaf84650590>,\n",
       "  <dispatch._dispatch._patch at 0x2aaf84650890>,\n",
       "  <dispatch._dispatch._patch at 0x2aaf84650b90>,\n",
       "  <dispatch._dispatch._patch at 0x2aaf84650e90>,\n",
       "  <dispatch._dispatch._patch at 0x2aaf846571d0>,\n",
       "  <dispatch._dispatch._patch at 0x2aaf846574d0>,\n",
       "  <dispatch._dispatch._patch at 0x2aaf846577d0>,\n",
       "  <dispatch._dispatch._patch at 0x2aaf84657ad0>,\n",
       "  <dispatch._dispatch._patch at 0x2aaf84657dd0>,\n",
       "  <dispatch._dispatch._patch at 0x2aaf8465e110>,\n",
       "  <dispatch._dispatch._patch at 0x2aaf8465e410>,\n",
       "  <dispatch._dispatch._patch at 0x2aaf8465e710>,\n",
       "  <dispatch._dispatch._patch at 0x2aaf8465ea10>,\n",
       "  <dispatch._dispatch._patch at 0x2aaf8465ed10>,\n",
       "  <dispatch._dispatch._patch at 0x2aaf84666050>,\n",
       "  <dispatch._dispatch._patch at 0x2aaf84666350>,\n",
       "  <dispatch._dispatch._patch at 0x2aaf84666650>,\n",
       "  <dispatch._dispatch._patch at 0x2aaf84666950>,\n",
       "  <dispatch._dispatch._patch at 0x2aaf84666c50>,\n",
       "  <dispatch._dispatch._patch at 0x2aaf84666f50>,\n",
       "  <dispatch._dispatch._patch at 0x2aaf8466d290>,\n",
       "  <dispatch._dispatch._patch at 0x2aaf8466d590>,\n",
       "  <dispatch._dispatch._patch at 0x2aaf8466d890>,\n",
       "  <dispatch._dispatch._patch at 0x2aaf8466db90>,\n",
       "  <dispatch._dispatch._patch at 0x2aaf8466de90>,\n",
       "  <dispatch._dispatch._patch at 0x2aaf846741d0>,\n",
       "  <dispatch._dispatch._patch at 0x2aaf846744d0>,\n",
       "  <dispatch._dispatch._patch at 0x2aaf846747d0>,\n",
       "  <dispatch._dispatch._patch at 0x2aaf84674ad0>,\n",
       "  <dispatch._dispatch._patch at 0x2aaf84674dd0>,\n",
       "  <dispatch._dispatch._patch at 0x2aaf8467a110>,\n",
       "  <dispatch._dispatch._patch at 0x2aaf8467a410>,\n",
       "  <dispatch._dispatch._patch at 0x2aaf8467a710>,\n",
       "  <dispatch._dispatch._patch at 0x2aaf8467aa10>,\n",
       "  <dispatch._dispatch._patch at 0x2aaf8467ad10>,\n",
       "  <dispatch._dispatch._patch at 0x2aaf84682050>,\n",
       "  <dispatch._dispatch._patch at 0x2aaf84682350>,\n",
       "  <dispatch._dispatch._patch at 0x2aaf84682650>,\n",
       "  <dispatch._dispatch._patch at 0x2aaf84682950>,\n",
       "  <dispatch._dispatch._patch at 0x2aaf84682c50>,\n",
       "  <dispatch._dispatch._patch at 0x2aaf84682f50>,\n",
       "  <dispatch._dispatch._patch at 0x2aaf84689290>,\n",
       "  <dispatch._dispatch._patch at 0x2aaf84689590>,\n",
       "  <dispatch._dispatch._patch at 0x2aaf84689890>,\n",
       "  <dispatch._dispatch._patch at 0x2aaf84689b90>,\n",
       "  <dispatch._dispatch._patch at 0x2aaf84689e90>,\n",
       "  <dispatch._dispatch._patch at 0x2aaf846901d0>,\n",
       "  <dispatch._dispatch._patch at 0x2aaf846904d0>,\n",
       "  <dispatch._dispatch._patch at 0x2aaf846907d0>,\n",
       "  <dispatch._dispatch._patch at 0x2aaf84690ad0>,\n",
       "  <dispatch._dispatch._patch at 0x2aaf84690dd0>,\n",
       "  <dispatch._dispatch._patch at 0x2aaf84697110>,\n",
       "  <dispatch._dispatch._patch at 0x2aaf84697410>,\n",
       "  <dispatch._dispatch._patch at 0x2aaf84697710>,\n",
       "  <dispatch._dispatch._patch at 0x2aaf84697a10>,\n",
       "  <dispatch._dispatch._patch at 0x2aaf84697d10>,\n",
       "  <dispatch._dispatch._patch at 0x2aaf8469f050>,\n",
       "  <dispatch._dispatch._patch at 0x2aaf8469f350>,\n",
       "  <dispatch._dispatch._patch at 0x2aaf8469f650>,\n",
       "  <dispatch._dispatch._patch at 0x2aaf8469f950>,\n",
       "  <dispatch._dispatch._patch at 0x2aaf8469fc50>,\n",
       "  <dispatch._dispatch._patch at 0x2aaf8469ff50>,\n",
       "  <dispatch._dispatch._patch at 0x2aaf846a6290>,\n",
       "  <dispatch._dispatch._patch at 0x2aaf846a6590>,\n",
       "  <dispatch._dispatch._patch at 0x2aaf846a6890>,\n",
       "  <dispatch._dispatch._patch at 0x2aaf846a6b90>,\n",
       "  <dispatch._dispatch._patch at 0x2aaf846a6e90>,\n",
       "  <dispatch._dispatch._patch at 0x2aaf846ae1d0>,\n",
       "  <dispatch._dispatch._patch at 0x2aaf846ae4d0>,\n",
       "  <dispatch._dispatch._patch at 0x2aaf846ae7d0>,\n",
       "  <dispatch._dispatch._patch at 0x2aaf846aead0>,\n",
       "  <dispatch._dispatch._patch at 0x2aaf846aedd0>,\n",
       "  <dispatch._dispatch._patch at 0x2aaf846b4110>,\n",
       "  <dispatch._dispatch._patch at 0x2aaf846b4410>,\n",
       "  <dispatch._dispatch._patch at 0x2aaf846b4710>,\n",
       "  <dispatch._dispatch._patch at 0x2aaf846b4a10>,\n",
       "  <dispatch._dispatch._patch at 0x2aaf846b4d10>,\n",
       "  <dispatch._dispatch._patch at 0x2aaf846bc050>,\n",
       "  <dispatch._dispatch._patch at 0x2aaf846bc350>,\n",
       "  <dispatch._dispatch._patch at 0x2aaf846bc650>,\n",
       "  <dispatch._dispatch._patch at 0x2aaf846bc950>,\n",
       "  <dispatch._dispatch._patch at 0x2aaf846bcc50>,\n",
       "  <dispatch._dispatch._patch at 0x2aaf846bcf50>,\n",
       "  <dispatch._dispatch._patch at 0x2aaf846c3290>,\n",
       "  <dispatch._dispatch._patch at 0x2aaf846c3590>,\n",
       "  <dispatch._dispatch._patch at 0x2aaf846c3890>,\n",
       "  <dispatch._dispatch._patch at 0x2aaf846c3b90>,\n",
       "  <dispatch._dispatch._patch at 0x2aaf846c3e90>,\n",
       "  <dispatch._dispatch._patch at 0x2aaf846ca1d0>,\n",
       "  <dispatch._dispatch._patch at 0x2aaf846ca4d0>,\n",
       "  <dispatch._dispatch._patch at 0x2aaf846ca7d0>,\n",
       "  <dispatch._dispatch._patch at 0x2aaf846caad0>,\n",
       "  <dispatch._dispatch._patch at 0x2aaf846cadd0>,\n",
       "  <dispatch._dispatch._patch at 0x2aaf846d1110>,\n",
       "  <dispatch._dispatch._patch at 0x2aaf846d1410>,\n",
       "  <dispatch._dispatch._patch at 0x2aaf846d1710>,\n",
       "  <dispatch._dispatch._patch at 0x2aaf846d1a10>,\n",
       "  <dispatch._dispatch._patch at 0x2aaf846d1d10>,\n",
       "  <dispatch._dispatch._patch at 0x2aaf846d9050>,\n",
       "  <dispatch._dispatch._patch at 0x2aaf846d9350>,\n",
       "  <dispatch._dispatch._patch at 0x2aaf846d9650>,\n",
       "  <dispatch._dispatch._patch at 0x2aaf846d9950>,\n",
       "  <dispatch._dispatch._patch at 0x2aaf846d9c50>,\n",
       "  <dispatch._dispatch._patch at 0x2aaf846d9f50>,\n",
       "  <dispatch._dispatch._patch at 0x2aaf846e0290>,\n",
       "  <dispatch._dispatch._patch at 0x2aaf846e0590>,\n",
       "  <dispatch._dispatch._patch at 0x2aaf846e0890>,\n",
       "  <dispatch._dispatch._patch at 0x2aaf846e0b90>,\n",
       "  <dispatch._dispatch._patch at 0x2aaf846e0e90>,\n",
       "  <dispatch._dispatch._patch at 0x2aaf846e71d0>,\n",
       "  <dispatch._dispatch._patch at 0x2aaf846e74d0>,\n",
       "  <dispatch._dispatch._patch at 0x2aaf846e77d0>,\n",
       "  <dispatch._dispatch._patch at 0x2aaf846e7ad0>,\n",
       "  <dispatch._dispatch._patch at 0x2aaf846e7dd0>,\n",
       "  <dispatch._dispatch._patch at 0x2aaf846ee110>,\n",
       "  <dispatch._dispatch._patch at 0x2aaf846ee410>,\n",
       "  <dispatch._dispatch._patch at 0x2aaf846ee710>,\n",
       "  <dispatch._dispatch._patch at 0x2aaf846eea10>,\n",
       "  <dispatch._dispatch._patch at 0x2aaf846eed10>,\n",
       "  <dispatch._dispatch._patch at 0x2aaf846f5050>,\n",
       "  <dispatch._dispatch._patch at 0x2aaf846f5350>,\n",
       "  <dispatch._dispatch._patch at 0x2aaf846f5650>,\n",
       "  <dispatch._dispatch._patch at 0x2aaf846f5950>,\n",
       "  <dispatch._dispatch._patch at 0x2aaf846f5c50>,\n",
       "  <dispatch._dispatch._patch at 0x2aaf846f5f50>,\n",
       "  <dispatch._dispatch._patch at 0x2aaf846fd290>,\n",
       "  <dispatch._dispatch._patch at 0x2aaf846fd590>,\n",
       "  <dispatch._dispatch._patch at 0x2aaf846fd890>,\n",
       "  <dispatch._dispatch._patch at 0x2aaf846fdb90>,\n",
       "  <dispatch._dispatch._patch at 0x2aaf846fde90>,\n",
       "  <dispatch._dispatch._patch at 0x2aaf847031d0>,\n",
       "  <dispatch._dispatch._patch at 0x2aaf847034d0>,\n",
       "  <dispatch._dispatch._patch at 0x2aaf847037d0>,\n",
       "  <dispatch._dispatch._patch at 0x2aaf84703ad0>,\n",
       "  <dispatch._dispatch._patch at 0x2aaf84703dd0>,\n",
       "  <dispatch._dispatch._patch at 0x2aaf8470a110>,\n",
       "  <dispatch._dispatch._patch at 0x2aaf8470a410>,\n",
       "  <dispatch._dispatch._patch at 0x2aaf8470a710>,\n",
       "  <dispatch._dispatch._patch at 0x2aaf8470aa10>,\n",
       "  <dispatch._dispatch._patch at 0x2aaf8470ad10>,\n",
       "  <dispatch._dispatch._patch at 0x2aaf84713050>,\n",
       "  <dispatch._dispatch._patch at 0x2aaf84713350>,\n",
       "  <dispatch._dispatch._patch at 0x2aaf84713650>,\n",
       "  <dispatch._dispatch._patch at 0x2aaf84713950>,\n",
       "  <dispatch._dispatch._patch at 0x2aaf84713c50>,\n",
       "  <dispatch._dispatch._patch at 0x2aaf84713f50>,\n",
       "  <dispatch._dispatch._patch at 0x2aaf84719290>,\n",
       "  <dispatch._dispatch._patch at 0x2aaf84719590>,\n",
       "  <dispatch._dispatch._patch at 0x2aaf84719890>,\n",
       "  <dispatch._dispatch._patch at 0x2aaf84719b90>,\n",
       "  <dispatch._dispatch._patch at 0x2aaf84719e90>,\n",
       "  <dispatch._dispatch._patch at 0x2aaf847211d0>,\n",
       "  <dispatch._dispatch._patch at 0x2aaf847214d0>,\n",
       "  <dispatch._dispatch._patch at 0x2aaf847217d0>,\n",
       "  <dispatch._dispatch._patch at 0x2aaf84721ad0>,\n",
       "  <dispatch._dispatch._patch at 0x2aaf84721dd0>,\n",
       "  <dispatch._dispatch._patch at 0x2aaf84728110>,\n",
       "  <dispatch._dispatch._patch at 0x2aaf84728410>,\n",
       "  <dispatch._dispatch._patch at 0x2aaf84728710>,\n",
       "  <dispatch._dispatch._patch at 0x2aaf84728a10>,\n",
       "  <dispatch._dispatch._patch at 0x2aaf84728d10>,\n",
       "  <dispatch._dispatch._patch at 0x2aaf8472e050>,\n",
       "  <dispatch._dispatch._patch at 0x2aaf8472e350>,\n",
       "  <dispatch._dispatch._patch at 0x2aaf8472e650>,\n",
       "  <dispatch._dispatch._patch at 0x2aaf8472e950>,\n",
       "  <dispatch._dispatch._patch at 0x2aaf8472ec50>,\n",
       "  <dispatch._dispatch._patch at 0x2aaf8472ef50>,\n",
       "  <dispatch._dispatch._patch at 0x2aaf84737290>,\n",
       "  <dispatch._dispatch._patch at 0x2aaf84737590>,\n",
       "  <dispatch._dispatch._patch at 0x2aaf84737890>,\n",
       "  <dispatch._dispatch._patch at 0x2aaf84737b90>,\n",
       "  <dispatch._dispatch._patch at 0x2aaf84737e90>,\n",
       "  <dispatch._dispatch._patch at 0x2aaf8473d1d0>,\n",
       "  <dispatch._dispatch._patch at 0x2aaf8473d4d0>,\n",
       "  <dispatch._dispatch._patch at 0x2aaf8473d7d0>,\n",
       "  <dispatch._dispatch._patch at 0x2aaf8473dad0>,\n",
       "  <dispatch._dispatch._patch at 0x2aaf8473ddd0>,\n",
       "  <dispatch._dispatch._patch at 0x2aaf84745110>,\n",
       "  <dispatch._dispatch._patch at 0x2aaf84745410>,\n",
       "  <dispatch._dispatch._patch at 0x2aaf84745710>,\n",
       "  <dispatch._dispatch._patch at 0x2aaf84745a10>,\n",
       "  <dispatch._dispatch._patch at 0x2aaf84745d10>,\n",
       "  <dispatch._dispatch._patch at 0x2aaf8474d050>,\n",
       "  <dispatch._dispatch._patch at 0x2aaf8474d350>,\n",
       "  <dispatch._dispatch._patch at 0x2aaf8474d650>,\n",
       "  <dispatch._dispatch._patch at 0x2aaf8474d950>,\n",
       "  <dispatch._dispatch._patch at 0x2aaf8474dc50>,\n",
       "  <dispatch._dispatch._patch at 0x2aaf8474df50>,\n",
       "  <dispatch._dispatch._patch at 0x2aaf84754290>,\n",
       "  <dispatch._dispatch._patch at 0x2aaf84754590>,\n",
       "  <dispatch._dispatch._patch at 0x2aaf84754890>,\n",
       "  <dispatch._dispatch._patch at 0x2aaf84754b90>,\n",
       "  <dispatch._dispatch._patch at 0x2aaf84754e90>,\n",
       "  <dispatch._dispatch._patch at 0x2aaf8475b1d0>,\n",
       "  <dispatch._dispatch._patch at 0x2aaf8475b4d0>,\n",
       "  <dispatch._dispatch._patch at 0x2aaf8475b7d0>,\n",
       "  <dispatch._dispatch._patch at 0x2aaf8475bad0>,\n",
       "  <dispatch._dispatch._patch at 0x2aaf8475bdd0>,\n",
       "  <dispatch._dispatch._patch at 0x2aaf84761110>,\n",
       "  <dispatch._dispatch._patch at 0x2aaf84761410>,\n",
       "  <dispatch._dispatch._patch at 0x2aaf84761710>,\n",
       "  <dispatch._dispatch._patch at 0x2aaf84761a10>,\n",
       "  <dispatch._dispatch._patch at 0x2aaf84761d10>,\n",
       "  <dispatch._dispatch._patch at 0x2aaf84769050>,\n",
       "  <dispatch._dispatch._patch at 0x2aaf84769350>,\n",
       "  <dispatch._dispatch._patch at 0x2aaf84769650>,\n",
       "  <dispatch._dispatch._patch at 0x2aaf84769950>,\n",
       "  <dispatch._dispatch._patch at 0x2aaf84769c50>,\n",
       "  <dispatch._dispatch._patch at 0x2aaf84769f50>,\n",
       "  <dispatch._dispatch._patch at 0x2aaf84770290>,\n",
       "  <dispatch._dispatch._patch at 0x2aaf84770590>,\n",
       "  <dispatch._dispatch._patch at 0x2aaf84770890>,\n",
       "  <dispatch._dispatch._patch at 0x2aaf84770b90>,\n",
       "  <dispatch._dispatch._patch at 0x2aaf84770e90>,\n",
       "  <dispatch._dispatch._patch at 0x2aaf847771d0>,\n",
       "  <dispatch._dispatch._patch at 0x2aaf847774d0>,\n",
       "  <dispatch._dispatch._patch at 0x2aaf847777d0>,\n",
       "  <dispatch._dispatch._patch at 0x2aaf84777ad0>,\n",
       "  <dispatch._dispatch._patch at 0x2aaf84777dd0>,\n",
       "  <dispatch._dispatch._patch at 0x2aaf8477e110>,\n",
       "  <dispatch._dispatch._patch at 0x2aaf8477e410>,\n",
       "  <dispatch._dispatch._patch at 0x2aaf8477e710>,\n",
       "  <dispatch._dispatch._patch at 0x2aaf8477ea10>,\n",
       "  <dispatch._dispatch._patch at 0x2aaf8477ed10>,\n",
       "  <dispatch._dispatch._patch at 0x2aaf84786050>,\n",
       "  <dispatch._dispatch._patch at 0x2aaf84786350>,\n",
       "  <dispatch._dispatch._patch at 0x2aaf84786650>,\n",
       "  <dispatch._dispatch._patch at 0x2aaf84786950>,\n",
       "  <dispatch._dispatch._patch at 0x2aaf84786c50>,\n",
       "  <dispatch._dispatch._patch at 0x2aaf84786f50>,\n",
       "  <dispatch._dispatch._patch at 0x2aaf8478d290>,\n",
       "  <dispatch._dispatch._patch at 0x2aaf8478d590>,\n",
       "  <dispatch._dispatch._patch at 0x2aaf8478d890>,\n",
       "  <dispatch._dispatch._patch at 0x2aaf8478db90>,\n",
       "  <dispatch._dispatch._patch at 0x2aaf8478de90>,\n",
       "  <dispatch._dispatch._patch at 0x2aaf847941d0>,\n",
       "  <dispatch._dispatch._patch at 0x2aaf847944d0>,\n",
       "  <dispatch._dispatch._patch at 0x2aaf847947d0>,\n",
       "  <dispatch._dispatch._patch at 0x2aaf84794ad0>,\n",
       "  <dispatch._dispatch._patch at 0x2aaf84794dd0>,\n",
       "  <dispatch._dispatch._patch at 0x2aaf8479b110>,\n",
       "  <dispatch._dispatch._patch at 0x2aaf8479b410>,\n",
       "  <dispatch._dispatch._patch at 0x2aaf8479b710>,\n",
       "  <dispatch._dispatch._patch at 0x2aaf8479ba10>,\n",
       "  <dispatch._dispatch._patch at 0x2aaf8479bd10>,\n",
       "  <dispatch._dispatch._patch at 0x2aaf847a2050>,\n",
       "  <dispatch._dispatch._patch at 0x2aaf847a2350>,\n",
       "  <dispatch._dispatch._patch at 0x2aaf847a2650>,\n",
       "  <dispatch._dispatch._patch at 0x2aaf847a2950>,\n",
       "  <dispatch._dispatch._patch at 0x2aaf847a2c50>,\n",
       "  <dispatch._dispatch._patch at 0x2aaf847a2f50>,\n",
       "  <dispatch._dispatch._patch at 0x2aaf847aa290>,\n",
       "  <dispatch._dispatch._patch at 0x2aaf847aa590>,\n",
       "  <dispatch._dispatch._patch at 0x2aaf847aa890>,\n",
       "  <dispatch._dispatch._patch at 0x2aaf847aab90>,\n",
       "  <dispatch._dispatch._patch at 0x2aaf847aae90>,\n",
       "  <dispatch._dispatch._patch at 0x2aaf847b11d0>,\n",
       "  <dispatch._dispatch._patch at 0x2aaf847b14d0>,\n",
       "  <dispatch._dispatch._patch at 0x2aaf847b17d0>,\n",
       "  <dispatch._dispatch._patch at 0x2aaf847b1ad0>,\n",
       "  <dispatch._dispatch._patch at 0x2aaf847b1dd0>,\n",
       "  <dispatch._dispatch._patch at 0x2aaf847b8110>,\n",
       "  <dispatch._dispatch._patch at 0x2aaf847b8410>,\n",
       "  <dispatch._dispatch._patch at 0x2aaf847b8710>,\n",
       "  <dispatch._dispatch._patch at 0x2aaf847b8a10>,\n",
       "  <dispatch._dispatch._patch at 0x2aaf847b8d10>,\n",
       "  <dispatch._dispatch._patch at 0x2aaf847c1050>,\n",
       "  <dispatch._dispatch._patch at 0x2aaf847c1350>,\n",
       "  <dispatch._dispatch._patch at 0x2aaf847c1650>,\n",
       "  <dispatch._dispatch._patch at 0x2aaf847c1950>,\n",
       "  <dispatch._dispatch._patch at 0x2aaf847c1c50>,\n",
       "  <dispatch._dispatch._patch at 0x2aaf847c1f50>,\n",
       "  <dispatch._dispatch._patch at 0x2aaf847c7290>,\n",
       "  <dispatch._dispatch._patch at 0x2aaf847c7590>,\n",
       "  <dispatch._dispatch._patch at 0x2aaf847c7890>,\n",
       "  <dispatch._dispatch._patch at 0x2aaf847c7b90>,\n",
       "  <dispatch._dispatch._patch at 0x2aaf847c7e90>,\n",
       "  <dispatch._dispatch._patch at 0x2aaf847cf1d0>,\n",
       "  <dispatch._dispatch._patch at 0x2aaf847cf4d0>,\n",
       "  <dispatch._dispatch._patch at 0x2aaf847cf7d0>,\n",
       "  <dispatch._dispatch._patch at 0x2aaf847cfad0>,\n",
       "  <dispatch._dispatch._patch at 0x2aaf847cfdd0>,\n",
       "  <dispatch._dispatch._patch at 0x2aaf847d5110>,\n",
       "  <dispatch._dispatch._patch at 0x2aaf847d5410>,\n",
       "  <dispatch._dispatch._patch at 0x2aaf847d5710>,\n",
       "  <dispatch._dispatch._patch at 0x2aaf847d5a10>,\n",
       "  <dispatch._dispatch._patch at 0x2aaf847d5d10>,\n",
       "  <dispatch._dispatch._patch at 0x2aaf847dc050>,\n",
       "  <dispatch._dispatch._patch at 0x2aaf847dc350>,\n",
       "  <dispatch._dispatch._patch at 0x2aaf847dc650>,\n",
       "  <dispatch._dispatch._patch at 0x2aaf847dc950>,\n",
       "  <dispatch._dispatch._patch at 0x2aaf847dcc50>,\n",
       "  <dispatch._dispatch._patch at 0x2aaf847dcf50>,\n",
       "  <dispatch._dispatch._patch at 0x2aaf847e4290>,\n",
       "  <dispatch._dispatch._patch at 0x2aaf847e4590>,\n",
       "  <dispatch._dispatch._patch at 0x2aaf847e4890>,\n",
       "  <dispatch._dispatch._patch at 0x2aaf847e4b90>,\n",
       "  <dispatch._dispatch._patch at 0x2aaf847e4e90>,\n",
       "  <dispatch._dispatch._patch at 0x2aaf847ea1d0>,\n",
       "  <dispatch._dispatch._patch at 0x2aaf847ea4d0>,\n",
       "  <dispatch._dispatch._patch at 0x2aaf847ea7d0>,\n",
       "  <dispatch._dispatch._patch at 0x2aaf847eaad0>,\n",
       "  <dispatch._dispatch._patch at 0x2aaf847eadd0>,\n",
       "  <dispatch._dispatch._patch at 0x2aaf847f2110>,\n",
       "  <dispatch._dispatch._patch at 0x2aaf847f2410>,\n",
       "  <dispatch._dispatch._patch at 0x2aaf847f2710>,\n",
       "  <dispatch._dispatch._patch at 0x2aaf847f2a10>,\n",
       "  <dispatch._dispatch._patch at 0x2aaf847f2d10>,\n",
       "  <dispatch._dispatch._patch at 0x2aaf847fa050>,\n",
       "  <dispatch._dispatch._patch at 0x2aaf847fa350>,\n",
       "  <dispatch._dispatch._patch at 0x2aaf847fa650>,\n",
       "  <dispatch._dispatch._patch at 0x2aaf847fa950>,\n",
       "  <dispatch._dispatch._patch at 0x2aaf847fac50>,\n",
       "  <dispatch._dispatch._patch at 0x2aaf847faf50>,\n",
       "  <dispatch._dispatch._patch at 0x2aaf84801290>,\n",
       "  <dispatch._dispatch._patch at 0x2aaf84801590>,\n",
       "  <dispatch._dispatch._patch at 0x2aaf84801890>,\n",
       "  <dispatch._dispatch._patch at 0x2aaf84801b90>,\n",
       "  <dispatch._dispatch._patch at 0x2aaf84801e90>,\n",
       "  <dispatch._dispatch._patch at 0x2aaf848081d0>,\n",
       "  <dispatch._dispatch._patch at 0x2aaf848084d0>,\n",
       "  <dispatch._dispatch._patch at 0x2aaf848087d0>,\n",
       "  <dispatch._dispatch._patch at 0x2aaf84808ad0>,\n",
       "  <dispatch._dispatch._patch at 0x2aaf84808dd0>,\n",
       "  <dispatch._dispatch._patch at 0x2aaf8480e110>,\n",
       "  <dispatch._dispatch._patch at 0x2aaf8480e410>,\n",
       "  <dispatch._dispatch._patch at 0x2aaf8480e710>,\n",
       "  <dispatch._dispatch._patch at 0x2aaf8480ea10>,\n",
       "  <dispatch._dispatch._patch at 0x2aaf8480ed10>,\n",
       "  <dispatch._dispatch._patch at 0x2aaf84816050>,\n",
       "  <dispatch._dispatch._patch at 0x2aaf84816350>,\n",
       "  <dispatch._dispatch._patch at 0x2aaf84816650>,\n",
       "  <dispatch._dispatch._patch at 0x2aaf84816950>,\n",
       "  <dispatch._dispatch._patch at 0x2aaf84816c50>,\n",
       "  <dispatch._dispatch._patch at 0x2aaf84816f50>,\n",
       "  <dispatch._dispatch._patch at 0x2aaf8481d290>]}"
      ]
     },
     "execution_count": 6,
     "metadata": {},
     "output_type": "execute_result"
    }
   ],
   "source": [
    "vars(sn)"
   ]
  },
  {
   "cell_type": "markdown",
   "metadata": {},
   "source": [
    "### Accessing patch data"
   ]
  },
  {
   "cell_type": "markdown",
   "metadata": {},
   "source": [
    "The individual patches are available as a list, ``sn.patches``:"
   ]
  },
  {
   "cell_type": "code",
   "execution_count": 7,
   "metadata": {},
   "outputs": [
    {
     "data": {
      "text/plain": [
       "512"
      ]
     },
     "execution_count": 7,
     "metadata": {},
     "output_type": "execute_result"
    }
   ],
   "source": [
    "len(sn.patches)"
   ]
  },
  {
   "cell_type": "markdown",
   "metadata": {},
   "source": [
    "Access the 1st patch, and list its metadata (collapse the cell output afterwards):"
   ]
  },
  {
   "cell_type": "code",
   "execution_count": 10,
   "metadata": {
    "collapsed": true,
    "jupyter": {
     "outputs_hidden": true
    }
   },
   "outputs": [
    {
     "data": {
      "text/plain": [
       "{'id': 1,\n",
       " 'rank': 0,\n",
       " 'ioformat': 11,\n",
       " 'iout': 3,\n",
       " 'time': 0.07500000000000001,\n",
       " 'ntotal': 512,\n",
       " 'istep': 133,\n",
       " 'mesh_type': 'Cartesian',\n",
       " 'position': array([0.0625, 0.0625, 0.0625]),\n",
       " 'size': array([0.125, 0.125, 0.125]),\n",
       " 'ds': array([0.0078125, 0.0078125, 0.0078125]),\n",
       " 'box': array([1., 1., 1.]),\n",
       " 'velocity': array([0., 0., 0.]),\n",
       " 'level': 7,\n",
       " 'quality': 0.0,\n",
       " 'gamma': 1.0,\n",
       " 'ncell': array([16, 16, 16]),\n",
       " 'li': array([0, 0, 0]),\n",
       " 'ui': array([15, 15, 15]),\n",
       " 'n': array([16, 16, 16]),\n",
       " 'ng': array([2, 2, 2]),\n",
       " 'gn': array([20, 20, 20]),\n",
       " 'nv': 5,\n",
       " 'nt': 5,\n",
       " 'nw': 1,\n",
       " 'kind': 'ramses_hd_patch',\n",
       " 'eos': 'ideal',\n",
       " 'opacity': 'none',\n",
       " 'periodic': array([ True,  True,  True]),\n",
       " 'guard_zones': False,\n",
       " 'time_derivs': 0,\n",
       " 'no_mans_land': True,\n",
       " 'dtime': 0.0002883008081080098,\n",
       " 'idx': <dispatch._dispatch._obj at 0x2b9cdea1b2d0>,\n",
       " 'extent': array([[0.   , 0.125, 0.   , 0.125],\n",
       "        [0.   , 0.125, 0.   , 0.125],\n",
       "        [0.   , 0.125, 0.   , 0.125]]),\n",
       " 'llc_cart': array([0., 0., 0.]),\n",
       " 'units': <dispatch._dispatch._param at 0x2b9cded13150>,\n",
       " 'offset': [125829120, 134217728, 142606336, 150994944, 159383552],\n",
       " 'ip': 0,\n",
       " 'var': <function dispatch._dispatch._var.<locals>.var(iv, copy=None)>,\n",
       " 'x': array([0.00390625, 0.01171875, 0.01953125, 0.02734375, 0.03515625,\n",
       "        0.04296875, 0.05078125, 0.05859375, 0.06640625, 0.07421875,\n",
       "        0.08203125, 0.08984375, 0.09765625, 0.10546875, 0.11328125,\n",
       "        0.12109375]),\n",
       " 'y': array([0.00390625, 0.01171875, 0.01953125, 0.02734375, 0.03515625,\n",
       "        0.04296875, 0.05078125, 0.05859375, 0.06640625, 0.07421875,\n",
       "        0.08203125, 0.08984375, 0.09765625, 0.10546875, 0.11328125,\n",
       "        0.12109375]),\n",
       " 'z': array([0.00390625, 0.01171875, 0.01953125, 0.02734375, 0.03515625,\n",
       "        0.04296875, 0.05078125, 0.05859375, 0.06640625, 0.07421875,\n",
       "        0.08203125, 0.08984375, 0.09765625, 0.10546875, 0.11328125,\n",
       "        0.12109375]),\n",
       " 'xs': array([0.       , 0.0078125, 0.015625 , 0.0234375, 0.03125  , 0.0390625,\n",
       "        0.046875 , 0.0546875, 0.0625   , 0.0703125, 0.078125 , 0.0859375,\n",
       "        0.09375  , 0.1015625, 0.109375 , 0.1171875]),\n",
       " 'ys': array([0.       , 0.0078125, 0.015625 , 0.0234375, 0.03125  , 0.0390625,\n",
       "        0.046875 , 0.0546875, 0.0625   , 0.0703125, 0.078125 , 0.0859375,\n",
       "        0.09375  , 0.1015625, 0.109375 , 0.1171875]),\n",
       " 'zs': array([0.       , 0.0078125, 0.015625 , 0.0234375, 0.03125  , 0.0390625,\n",
       "        0.046875 , 0.0546875, 0.0625   , 0.0703125, 0.078125 , 0.0859375,\n",
       "        0.09375  , 0.1015625, 0.109375 , 0.1171875]),\n",
       " 'xyz': [array([0.00390625, 0.01171875, 0.01953125, 0.02734375, 0.03515625,\n",
       "         0.04296875, 0.05078125, 0.05859375, 0.06640625, 0.07421875,\n",
       "         0.08203125, 0.08984375, 0.09765625, 0.10546875, 0.11328125,\n",
       "         0.12109375]),\n",
       "  array([0.00390625, 0.01171875, 0.01953125, 0.02734375, 0.03515625,\n",
       "         0.04296875, 0.05078125, 0.05859375, 0.06640625, 0.07421875,\n",
       "         0.08203125, 0.08984375, 0.09765625, 0.10546875, 0.11328125,\n",
       "         0.12109375]),\n",
       "  array([0.00390625, 0.01171875, 0.01953125, 0.02734375, 0.03515625,\n",
       "         0.04296875, 0.05078125, 0.05859375, 0.06640625, 0.07421875,\n",
       "         0.08203125, 0.08984375, 0.09765625, 0.10546875, 0.11328125,\n",
       "         0.12109375])],\n",
       " 'geometric_factors': {'h2c': array([1., 1., 1., 1., 1., 1., 1., 1., 1., 1., 1., 1., 1., 1., 1., 1.]),\n",
       "  'h2f': array([1., 1., 1., 1., 1., 1., 1., 1., 1., 1., 1., 1., 1., 1., 1., 1.]),\n",
       "  'h31c': array([1., 1., 1., 1., 1., 1., 1., 1., 1., 1., 1., 1., 1., 1., 1., 1.]),\n",
       "  'h31f': array([1., 1., 1., 1., 1., 1., 1., 1., 1., 1., 1., 1., 1., 1., 1., 1.]),\n",
       "  'h32c': array([1., 1., 1., 1., 1., 1., 1., 1., 1., 1., 1., 1., 1., 1., 1., 1.]),\n",
       "  'h32f': array([1., 1., 1., 1., 1., 1., 1., 1., 1., 1., 1., 1., 1., 1., 1., 1.]),\n",
       "  'dx1c': array([0.0078125, 0.0078125, 0.0078125, 0.0078125, 0.0078125, 0.0078125,\n",
       "         0.0078125, 0.0078125, 0.0078125, 0.0078125, 0.0078125, 0.0078125,\n",
       "         0.0078125, 0.0078125, 0.0078125, 0.0078125]),\n",
       "  'dx1f': array([0.0078125, 0.0078125, 0.0078125, 0.0078125, 0.0078125, 0.0078125,\n",
       "         0.0078125, 0.0078125, 0.0078125, 0.0078125, 0.0078125, 0.0078125,\n",
       "         0.0078125, 0.0078125, 0.0078125, 0.0078125]),\n",
       "  'dx2c': array([0.0078125, 0.0078125, 0.0078125, 0.0078125, 0.0078125, 0.0078125,\n",
       "         0.0078125, 0.0078125, 0.0078125, 0.0078125, 0.0078125, 0.0078125,\n",
       "         0.0078125, 0.0078125, 0.0078125, 0.0078125]),\n",
       "  'dx2f': array([0.0078125, 0.0078125, 0.0078125, 0.0078125, 0.0078125, 0.0078125,\n",
       "         0.0078125, 0.0078125, 0.0078125, 0.0078125, 0.0078125, 0.0078125,\n",
       "         0.0078125, 0.0078125, 0.0078125, 0.0078125]),\n",
       "  'dx3c': array([0.0078125, 0.0078125, 0.0078125, 0.0078125, 0.0078125, 0.0078125,\n",
       "         0.0078125, 0.0078125, 0.0078125, 0.0078125, 0.0078125, 0.0078125,\n",
       "         0.0078125, 0.0078125, 0.0078125, 0.0078125]),\n",
       "  'dx3f': array([0.0078125, 0.0078125, 0.0078125, 0.0078125, 0.0078125, 0.0078125,\n",
       "         0.0078125, 0.0078125, 0.0078125, 0.0078125, 0.0078125, 0.0078125,\n",
       "         0.0078125, 0.0078125, 0.0078125, 0.0078125]),\n",
       "  'dvol1c': array([0.0078125, 0.0078125, 0.0078125, 0.0078125, 0.0078125, 0.0078125,\n",
       "         0.0078125, 0.0078125, 0.0078125, 0.0078125, 0.0078125, 0.0078125,\n",
       "         0.0078125, 0.0078125, 0.0078125, 0.0078125]),\n",
       "  'dvol1f': array([0.0078125, 0.0078125, 0.0078125, 0.0078125, 0.0078125, 0.0078125,\n",
       "         0.0078125, 0.0078125, 0.0078125, 0.0078125, 0.0078125, 0.0078125,\n",
       "         0.0078125, 0.0078125, 0.0078125, 0.0078125]),\n",
       "  'dvol2c': array([0.0078125, 0.0078125, 0.0078125, 0.0078125, 0.0078125, 0.0078125,\n",
       "         0.0078125, 0.0078125, 0.0078125, 0.0078125, 0.0078125, 0.0078125,\n",
       "         0.0078125, 0.0078125, 0.0078125, 0.0078125]),\n",
       "  'dvol2f': array([0.0078125, 0.0078125, 0.0078125, 0.0078125, 0.0078125, 0.0078125,\n",
       "         0.0078125, 0.0078125, 0.0078125, 0.0078125, 0.0078125, 0.0078125,\n",
       "         0.0078125, 0.0078125, 0.0078125, 0.0078125]),\n",
       "  'dvol3c': array([0.0078125, 0.0078125, 0.0078125, 0.0078125, 0.0078125, 0.0078125,\n",
       "         0.0078125, 0.0078125, 0.0078125, 0.0078125, 0.0078125, 0.0078125,\n",
       "         0.0078125, 0.0078125, 0.0078125, 0.0078125]),\n",
       "  'dvol3f': array([0.0078125, 0.0078125, 0.0078125, 0.0078125, 0.0078125, 0.0078125,\n",
       "         0.0078125, 0.0078125, 0.0078125, 0.0078125, 0.0078125, 0.0078125,\n",
       "         0.0078125, 0.0078125, 0.0078125, 0.0078125]),\n",
       "  'dar1c': array([1., 1., 1., 1., 1., 1., 1., 1., 1., 1., 1., 1., 1., 1., 1., 1.]),\n",
       "  'dar1f': array([1., 1., 1., 1., 1., 1., 1., 1., 1., 1., 1., 1., 1., 1., 1., 1.]),\n",
       "  'dar2c': array([1., 1., 1., 1., 1., 1., 1., 1., 1., 1., 1., 1., 1., 1., 1., 1.]),\n",
       "  'dar2f': array([1., 1., 1., 1., 1., 1., 1., 1., 1., 1., 1., 1., 1., 1., 1., 1.]),\n",
       "  'dar31c': array([1., 1., 1., 1., 1., 1., 1., 1., 1., 1., 1., 1., 1., 1., 1., 1.]),\n",
       "  'dar31f': array([1., 1., 1., 1., 1., 1., 1., 1., 1., 1., 1., 1., 1., 1., 1., 1.]),\n",
       "  'dar32c': array([1., 1., 1., 1., 1., 1., 1., 1., 1., 1., 1., 1., 1., 1., 1., 1.]),\n",
       "  'dar32f': array([1., 1., 1., 1., 1., 1., 1., 1., 1., 1., 1., 1., 1., 1., 1., 1.])}}"
      ]
     },
     "execution_count": 10,
     "metadata": {},
     "output_type": "execute_result"
    }
   ],
   "source": [
    "p=sn.patches[0]\n",
    "vars(p)"
   ]
  },
  {
   "cell_type": "markdown",
   "metadata": {},
   "source": [
    "A function ``var`` gives access to the variables, but variable index, or by name:"
   ]
  },
  {
   "cell_type": "code",
   "execution_count": 8,
   "metadata": {},
   "outputs": [
    {
     "data": {
      "text/plain": [
       "<function dispatch._dispatch._var.<locals>.var(iv, copy=None)>"
      ]
     },
     "execution_count": 8,
     "metadata": {},
     "output_type": "execute_result"
    }
   ],
   "source": [
    "p.var"
   ]
  },
  {
   "cell_type": "markdown",
   "metadata": {},
   "source": [
    "The function return a ``numpy.memmap``, which works a ``numpy.array``, but has not yet been read into memory."
   ]
  },
  {
   "cell_type": "code",
   "execution_count": 10,
   "metadata": {},
   "outputs": [
    {
     "data": {
      "text/plain": [
       "numpy.memmap"
      ]
     },
     "execution_count": 10,
     "metadata": {},
     "output_type": "execute_result"
    }
   ],
   "source": [
    "type(p.var(0))"
   ]
  },
  {
   "cell_type": "markdown",
   "metadata": {},
   "source": [
    "One can inquire and use all the ``numpy.arraay`` attributes and functions, for example:"
   ]
  },
  {
   "cell_type": "code",
   "execution_count": 13,
   "metadata": {},
   "outputs": [
    {
     "data": {
      "text/plain": [
       "(16, 16, 16)"
      ]
     },
     "execution_count": 13,
     "metadata": {},
     "output_type": "execute_result"
    }
   ],
   "source": [
    "p.var(0).shape"
   ]
  },
  {
   "cell_type": "code",
   "execution_count": 14,
   "metadata": {},
   "outputs": [
    {
     "data": {
      "text/plain": [
       "2.2811801"
      ]
     },
     "execution_count": 14,
     "metadata": {},
     "output_type": "execute_result"
    }
   ],
   "source": [
    "p.var(0).max()"
   ]
  },
  {
   "cell_type": "code",
   "execution_count": 16,
   "metadata": {},
   "outputs": [
    {
     "data": {
      "text/plain": [
       "memmap([1.3911651, 1.4203671, 1.4490024, 1.4766995, 1.5033338, 1.5287157,\n",
       "        1.5526866, 1.5751168, 1.5958786, 1.6148192, 1.6317686, 1.6465595,\n",
       "        1.659038 , 1.6690888, 1.6765884, 1.6816739], dtype=float32)"
      ]
     },
     "execution_count": 16,
     "metadata": {},
     "output_type": "execute_result"
    }
   ],
   "source": [
    "d=p.var(0)\n",
    "d[:,0,0]"
   ]
  },
  {
   "cell_type": "code",
   "execution_count": 20,
   "metadata": {},
   "outputs": [
    {
     "name": "stdout",
     "output_type": "stream",
     "text": [
      "Populating the interactive namespace from numpy and matplotlib\n"
     ]
    }
   ],
   "source": [
    "%pylab inline"
   ]
  },
  {
   "cell_type": "code",
   "execution_count": 21,
   "metadata": {},
   "outputs": [
    {
     "data": {
      "text/plain": [
       "[<matplotlib.lines.Line2D at 0x2aaf8b9098d0>]"
      ]
     },
     "execution_count": 21,
     "metadata": {},
     "output_type": "execute_result"
    },
    {
     "data": {
      "image/png": "[encoded data removed]",
      "text/plain": [
       "<Figure size 432x288 with 1 Axes>"
      ]
     },
     "metadata": {
      "needs_background": "light"
     },
     "output_type": "display_data"
    }
   ],
   "source": [
    "plot(d[:,0,0])"
   ]
  },
  {
   "cell_type": "code",
   "execution_count": 22,
   "metadata": {},
   "outputs": [
    {
     "data": {
      "text/plain": [
       "<matplotlib.image.AxesImage at 0x2aaf8b9a0250>"
      ]
     },
     "execution_count": 22,
     "metadata": {},
     "output_type": "execute_result"
    },
    {
     "data": {
      "image/png": "[encoded data removed]",
      "text/plain": [
       "<Figure size 432x288 with 1 Axes>"
      ]
     },
     "metadata": {
      "needs_background": "light"
     },
     "output_type": "display_data"
    }
   ],
   "source": [
    "imshow(d[:,:,0])"
   ]
  },
  {
   "cell_type": "markdown",
   "metadata": {},
   "source": [
    "To show images oriented in the Fortran way, one needs to transpose the data and put the origin at the lower corner:"
   ]
  },
  {
   "cell_type": "code",
   "execution_count": 23,
   "metadata": {},
   "outputs": [
    {
     "data": {
      "text/plain": [
       "<matplotlib.image.AxesImage at 0x2aaf8ba186d0>"
      ]
     },
     "execution_count": 23,
     "metadata": {},
     "output_type": "execute_result"
    },
    {
     "data": {
      "image/png": "[encoded data removed]",
      "text/plain": [
       "<Figure size 432x288 with 1 Axes>"
      ]
     },
     "metadata": {
      "needs_background": "light"
     },
     "output_type": "display_data"
    }
   ],
   "source": [
    "imshow(d[:,:,0].T,origin='lower')"
   ]
  },
  {
   "cell_type": "markdown",
   "metadata": {},
   "source": [
    "The ``dispatch.graphics`` module has a shortcut for that:"
   ]
  },
  {
   "cell_type": "code",
   "execution_count": 24,
   "metadata": {},
   "outputs": [
    {
     "data": {
      "image/png": "[encoded data removed]",
      "text/plain": [
       "<Figure size 432x288 with 2 Axes>"
      ]
     },
     "metadata": {
      "needs_background": "light"
     },
     "output_type": "display_data"
    }
   ],
   "source": [
    "dgr.imshow(d[:,:,0])"
   ]
  },
  {
   "cell_type": "markdown",
   "metadata": {},
   "source": [
    "As you can see, it also uses by default a different color table ('coolwarm').  This may be changed via the default parameters, since it passes all arguments on to ``pyplot.imshow``:"
   ]
  },
  {
   "cell_type": "code",
   "execution_count": 25,
   "metadata": {},
   "outputs": [
    {
     "data": {
      "image/png": "[encoded data removed]",
      "text/plain": [
       "<Figure size 432x288 with 2 Axes>"
      ]
     },
     "metadata": {
      "needs_background": "light"
     },
     "output_type": "display_data"
    }
   ],
   "source": [
    "dgr.imshow(d[:,:,0],cmap=None)"
   ]
  },
  {
   "cell_type": "markdown",
   "metadata": {},
   "source": [
    "To find other color tables, google for \"matplotlig color tables\", where you may find this one to be familiar (if you are an IDL user):"
   ]
  },
  {
   "cell_type": "code",
   "execution_count": 26,
   "metadata": {},
   "outputs": [
    {
     "data": {
      "image/png": "[encoded data removed]",
      "text/plain": [
       "<Figure size 432x288 with 2 Axes>"
      ]
     },
     "metadata": {
      "needs_background": "light"
     },
     "output_type": "display_data"
    }
   ],
   "source": [
    "dgr.imshow(d[:,:,0],cmap='gist_stern')"
   ]
  },
  {
   "cell_type": "markdown",
   "metadata": {},
   "source": [
    "### Compute the max and min density in each snapshot"
   ]
  },
  {
   "cell_type": "code",
   "execution_count": 54,
   "metadata": {},
   "outputs": [
    {
     "name": "stdout",
     "output_type": "stream",
     "text": [
      "0 1.0 1.0\n",
      "1 0.9474428 1.0441262\n",
      "2 0.50070375 3.5108957\n",
      "3 0.119690396 69.820145\n"
     ]
    }
   ],
   "source": [
    "for i in range(4):\n",
    "    sn=dispatch.snapshot(i,run='myrun')\n",
    "    dmax=0.\n",
    "    dmin=1e10\n",
    "    for p in sn.patches:\n",
    "        d=p.var('d')              # density in the patch\n",
    "        dmin=min(dmin,d.min())\n",
    "        dmax=max(dmax,d.max())\n",
    "    print (i,dmin,dmax)"
   ]
  },
  {
   "cell_type": "markdown",
   "metadata": {},
   "source": [
    "The metadata of a patch contains the position:"
   ]
  },
  {
   "cell_type": "code",
   "execution_count": 27,
   "metadata": {},
   "outputs": [
    {
     "data": {
      "text/plain": [
       "array([0.0625, 0.0625, 0.0625])"
      ]
     },
     "execution_count": 27,
     "metadata": {},
     "output_type": "execute_result"
    }
   ],
   "source": [
    "p.position"
   ]
  },
  {
   "cell_type": "markdown",
   "metadata": {},
   "source": [
    "To make a selection of all patches in the same plane, use this common and compact Python construct:"
   ]
  },
  {
   "cell_type": "code",
   "execution_count": 34,
   "metadata": {},
   "outputs": [],
   "source": [
    "pp=[p for p in sn.patches if p.position[2]==0.0625]"
   ]
  },
  {
   "cell_type": "code",
   "execution_count": 35,
   "metadata": {},
   "outputs": [
    {
     "data": {
      "text/plain": [
       "64"
      ]
     },
     "execution_count": 35,
     "metadata": {},
     "output_type": "execute_result"
    }
   ],
   "source": [
    "len(pp)"
   ]
  },
  {
   "cell_type": "markdown",
   "metadata": {},
   "source": [
    "With the same type of construct, get all z-values:"
   ]
  },
  {
   "cell_type": "code",
   "execution_count": 50,
   "metadata": {},
   "outputs": [
    {
     "data": {
      "text/plain": [
       "array([0.0625, 0.1875, 0.3125, 0.4375, 0.5625, 0.6875, 0.8125, 0.9375])"
      ]
     },
     "execution_count": 50,
     "metadata": {},
     "output_type": "execute_result"
    }
   ],
   "source": [
    "zz=[p.position[2] for p in sn.patches]\n",
    "zz=unique(sort(zz))\n",
    "zz"
   ]
  },
  {
   "cell_type": "markdown",
   "metadata": {},
   "source": [
    "The extent of a patch is given by the ``extent`` atttribute, which returns for example ``[xmin,xmax,ymin,ymax]`` in the 3rd element:"
   ]
  },
  {
   "cell_type": "code",
   "execution_count": 70,
   "metadata": {},
   "outputs": [
    {
     "data": {
      "text/plain": [
       "array([[0.875, 1.   , 0.125, 0.25 ],\n",
       "       [0.125, 0.25 , 0.875, 1.   ],\n",
       "       [0.875, 1.   , 0.875, 1.   ]])"
      ]
     },
     "execution_count": 70,
     "metadata": {},
     "output_type": "execute_result"
    }
   ],
   "source": [
    "p.extent"
   ]
  },
  {
   "cell_type": "markdown",
   "metadata": {},
   "source": [
    "Given the above, we can easily display all the values in a plane of extent (0,1) in x and y:"
   ]
  },
  {
   "cell_type": "code",
   "execution_count": 68,
   "metadata": {},
   "outputs": [
    {
     "data": {
      "text/plain": [
       "(0, 1)"
      ]
     },
     "execution_count": 68,
     "metadata": {},
     "output_type": "execute_result"
    },
    {
     "data": {
      "image/png": "[encoded data removed]",
      "text/plain": [
       "<Figure size 432x288 with 1 Axes>"
      ]
     },
     "metadata": {
      "needs_background": "light"
     },
     "output_type": "display_data"
    }
   ],
   "source": [
    "pp=[p for p in sn.patches if p.position[2]==zz[1]]\n",
    "clf()\n",
    "xlim(0,1)\n",
    "ylim(0,1)\n",
    "for p in pp:\n",
    "    d=p.var('d')\n",
    "    imshow(log(d[:,:,0].T),origin='lower',extent=p.extent[2],vmin=log(dmin),vmax=log(dmax))\n"
   ]
  },
  {
   "cell_type": "markdown",
   "metadata": {},
   "source": [
    "By defining a small procedure that plots the exent of a patch, we can even show the individual patches:"
   ]
  },
  {
   "cell_type": "code",
   "execution_count": 78,
   "metadata": {},
   "outputs": [],
   "source": [
    "def outline(e):\n",
    "    x=[e[0],e[0],e[1],e[1],e[0]]\n",
    "    y=[e[2],e[3],e[3],e[2],e[2]]\n",
    "    plot(x,y,color='gray')"
   ]
  },
  {
   "cell_type": "code",
   "execution_count": 79,
   "metadata": {},
   "outputs": [
    {
     "data": {
      "image/png": "[encoded data removed]",
      "text/plain": [
       "<Figure size 432x288 with 1 Axes>"
      ]
     },
     "metadata": {
      "needs_background": "light"
     },
     "output_type": "display_data"
    }
   ],
   "source": [
    "pp=[p for p in sn.patches if p.position[2]==zz[1]]\n",
    "clf()\n",
    "xlim(0,1)\n",
    "ylim(0,1)\n",
    "for p in pp:\n",
    "    d=p.var('d')\n",
    "    imshow(log(d[:,:,0].T),origin='lower',extent=p.extent[2],vmin=log(dmin),vmax=log(dmax))\n",
    "    outline(p.extent[2])"
   ]
  },
  {
   "cell_type": "markdown",
   "metadata": {},
   "source": [
    "### Making a more comprehensive procedure\n",
    "Let's turn into a procedure, allowing choice of variable, log scale, and other options:"
   ]
  },
  {
   "cell_type": "code",
   "execution_count": 12,
   "metadata": {},
   "outputs": [],
   "source": [
    "import numpy as np\n",
    "import matplotlib.pyplot as pl\n",
    "\n",
    "def my_plane(sn,v='d',log=False,ix=None,iy=None,iz=0,i=None,vmin=None,vmax=None,patches=None,colorbar=True,title=None):\n",
    "    \"\"\" Procedure to make an image of a DISPATCH unigrid snapshot in a plane \"\"\"\n",
    "\n",
    "    # Choose patch plane\n",
    "    if type(ix) is int:\n",
    "        dir=0\n",
    "        ii=ix\n",
    "    elif type(iy) is int:\n",
    "        dir=1\n",
    "        ii=iy\n",
    "    elif type(iz) is int:\n",
    "        dir=2\n",
    "        ii=iz\n",
    "    ss=np.unique(np.sort([p.position[dir] for p in sn.patches]))\n",
    "    pp=[p for p in sn.patches if p.position[dir] == ss[ii]]\n",
    "\n",
    "    # Clear graphics and set limits\n",
    "    pl.clf()\n",
    "    pl.xlim(0,1)\n",
    "    pl.ylim(0,1)\n",
    "\n",
    "    # Determine min and max, if not given\n",
    "    if not vmin:\n",
    "        vmin=1e10\n",
    "        for p in pp:\n",
    "            vmin=min(vmin,p.var(v).min())\n",
    "    if not vmax:\n",
    "        vmax=-1e10\n",
    "        for p in pp:\n",
    "            vmax=max(vmax,p.var(v).max())\n",
    "    vmin=np.log(vmin) if log else vmin\n",
    "    vmax=np.log(vmax) if log else vmax\n",
    "    \n",
    "    # Choose index in patch -- mid-plane if not given\n",
    "    if i is None:\n",
    "        i=sn.n[dir]//2\n",
    "\n",
    "    # Make the images\n",
    "    for p in pp:\n",
    "        f=np.log(p.var(v)) if log else p.var(v)\n",
    "        if dir==0:\n",
    "            pl.imshow(f[i,:,:].T,origin='lower',extent=p.extent[dir],vmin=vmin,vmax=vmax)\n",
    "        elif dir==1:\n",
    "            pl.imshow(f[:,i,:].T,origin='lower',extent=p.extent[dir],vmin=vmin,vmax=vmax)\n",
    "        else:\n",
    "            pl.imshow(f[:,:,i].T,origin='lower',extent=p.extent[dir],vmin=vmin,vmax=vmax)\n",
    "    \n",
    "    # Optionally, show patches\n",
    "    if patches:\n",
    "        for p in pp:\n",
    "            e=p.extent[dir]\n",
    "            x=[e[0],e[0],e[1],e[1],e[0]]\n",
    "            y=[e[2],e[3],e[3],e[2],e[2]]\n",
    "            pl.plot(x,y,color='grey')\n",
    "\n",
    "    # how a colorbar, if not supressed\n",
    "    if colorbar:\n",
    "        pl.colorbar()\n",
    "\n",
    "    # Allow custom title\n",
    "    if title is None:\n",
    "        vl='log('+v+')' if log else v\n",
    "        title='variable:{}  plane:{} position:{}'.format(vl,dir,ss[ii])\n",
    "    pl.title(title)"
   ]
  },
  {
   "cell_type": "markdown",
   "metadata": {},
   "source": [
    "Let's try it out:"
   ]
  },
  {
   "cell_type": "code",
   "execution_count": 13,
   "metadata": {},
   "outputs": [
    {
     "data": {
      "image/png": "[encoded data removed]",
      "text/plain": [
       "<Figure size 432x288 with 2 Axes>"
      ]
     },
     "metadata": {
      "needs_background": "light"
     },
     "output_type": "display_data"
    }
   ],
   "source": [
    "my_plane(sn,log=True)"
   ]
  },
  {
   "cell_type": "code",
   "execution_count": 14,
   "metadata": {},
   "outputs": [
    {
     "data": {
      "image/png": "[encoded data removed]",
      "text/plain": [
       "<Figure size 432x288 with 2 Axes>"
      ]
     },
     "metadata": {
      "needs_background": "light"
     },
     "output_type": "display_data"
    }
   ],
   "source": [
    "my_plane(sn,iz=2,log=True,title='xy-plane number 3',patches=True)"
   ]
  },
  {
   "cell_type": "markdown",
   "metadata": {},
   "source": [
    "## Adding a procedure to the DISPATCH Python modules"
   ]
  },
  {
   "cell_type": "markdown",
   "metadata": {},
   "source": [
    "Let's add it to the ``dispatch.graphics`` module, getting in the process insight into how Python modules are arranged:\n",
    "* Use the Jupyter Lab file browser to open the directory ``utilities/python/dispatch/graphics/``\n",
    "* use the '+' at top left in Jupyter Lab, choose text file, and copy & paste the procedure above into there and save (CTRL-S)\n",
    "* use the context menu (on the file name or the tab name) to change the name to ``mystuff.py`` (or whatever .py name your prefer)\n",
    "That's it -- you have now added a new procedure to (your clone of) the DISPATCH repository!"
   ]
  },
  {
   "cell_type": "markdown",
   "metadata": {},
   "source": [
    "To check that it became available, restart the kernel in this Notebook (via the menue, or ESCAPE-00), and try it here (without executing any of the cells above):"
   ]
  },
  {
   "cell_type": "code",
   "execution_count": 1,
   "metadata": {},
   "outputs": [],
   "source": [
    "import os\n",
    "import sys\n",
    "TOP=os.environ['HOME']+'/codes/dispatch/'\n",
    "sys.path.append(TOP+'utilities/python')\n",
    "import dispatch\n",
    "import dispatch.select   as dse\n",
    "import dispatch.graphics as dgr\n",
    "os.chdir(TOP+'experiments/pan')"
   ]
  },
  {
   "cell_type": "code",
   "execution_count": 2,
   "metadata": {},
   "outputs": [
    {
     "data": {
      "text/plain": [
       "0.07500000000000001"
      ]
     },
     "execution_count": 2,
     "metadata": {},
     "output_type": "execute_result"
    }
   ],
   "source": [
    "sn=dispatch.snapshot(3,run='myrun')\n",
    "sn.time"
   ]
  },
  {
   "cell_type": "code",
   "execution_count": 4,
   "metadata": {},
   "outputs": [
    {
     "name": "stdout",
     "output_type": "stream",
     "text": [
      "x: yz-plane\n"
     ]
    },
    {
     "data": {
      "image/png": "[encoded data removed]",
      "text/plain": [
       "<Figure size 432x288 with 2 Axes>"
      ]
     },
     "metadata": {
      "needs_background": "light"
     },
     "output_type": "display_data"
    }
   ],
   "source": [
    "dgr.my_plane(sn,log=True,ix=1,i=8,patches=True)"
   ]
  },
  {
   "cell_type": "markdown",
   "metadata": {},
   "source": [
    "### Saving and maintaining such private procedures\n",
    "The procedure was added in a file that is not in the repository, so it does not disturb the normal maintenance of the repository (e.g. pull of updates).  "
   ]
  },
  {
   "cell_type": "markdown",
   "metadata": {},
   "source": [
    "It is included in the ``dispatch.graphics`` module automatically, because it is in that directory.\n",
    "If that does not happen, edit the ``dispatch/graphics/__init__.py`` file, adding this line:"
   ]
  },
  {
   "cell_type": "raw",
   "metadata": {},
   "source": [
    "from .mystuff import *"
   ]
  },
  {
   "cell_type": "markdown",
   "metadata": {},
   "source": [
    "On the other hand it is not available at other places you work. To make that happen, you can just copy the file to the same place there. \n",
    "\n",
    "To make it part of the maintined repository, you could make it a fork of the DISPATCH repository (to be described elsewhere), and use ``git push / git pull`` to distribute."
   ]
  }
 ],
 "metadata": {
  "kernelspec": {
   "display_name": "Python 3",
   "language": "python",
   "name": "python3"
  },
  "language_info": {
   "codemirror_mode": {
    "name": "ipython",
    "version": 3
   },
   "file_extension": ".py",
   "mimetype": "text/x-python",
   "name": "python",
   "nbconvert_exporter": "python",
   "pygments_lexer": "ipython3",
   "version": "3.7.4"
  }
 },
 "nbformat": 4,
 "nbformat_minor": 4
}
