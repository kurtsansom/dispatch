{
 "cells": [
  {
   "cell_type": "markdown",
   "metadata": {},
   "source": [
    "# Heat Diffusion"
   ]
  },
  {
   "cell_type": "markdown",
   "metadata": {},
   "source": [
    "### Update the reposotory"
   ]
  },
  {
   "cell_type": "raw",
   "metadata": {},
   "source": [
    "$ cd codes/dispatch\n",
    "$ git stash\n",
    "$ git pull\n",
    "$ git stash pop"
   ]
  },
  {
   "cell_type": "markdown",
   "metadata": {},
   "source": [
    "### Finish the new ``experiments/heat_diffusion``"
   ]
  },
  {
   "cell_type": "markdown",
   "metadata": {},
   "source": [
    "Look at new directory ``experiment/heat_diffusion``; it is in principle all that is needed to solve the heat diffusion equation in parallel, at any size."
   ]
  },
  {
   "cell_type": "raw",
   "metadata": {},
   "source": [
    "$ cd experiments/heat_diffusion\n",
    "$ ls -l"
   ]
  },
  {
   "cell_type": "markdown",
   "metadata": {},
   "source": [
    "Take a look at ``experiment_mod.f90``; it has initial conditions, and boundary conditions.  All it lacks is the \"flesh\" in ``SUBROUTINE update``, which is where the solution is to be updated.   This is such a simple case that the \"solver\" can be implemented directly in the ``update`` subroutine, by adding the statements that compute the diffusion operator.  Use the stencil that in Python would be expressed as"
   ]
  },
  {
   "cell_type": "code",
   "execution_count": 26,
   "metadata": {},
   "outputs": [],
   "source": [
    "def laplace(f):\n",
    "    s=f.shape\n",
    "    out=np.zeros(s)\n",
    "    li=np.array([2,2,2])\n",
    "    ui=s-li-1\n",
    "    print(li,ui)\n",
    "    \"\"\" For illustration purposes this is written in loop form \"\"\"\n",
    "    for i2 in range(li[2],ui[2]+1):\n",
    "        for i1 in range(li[1],ui[1]+1):\n",
    "                for i0 in range(li[0],ui[0]+1):\n",
    "                    out[i0,i1,i2] = f[i0-1,i1  ,i2  ]+f[i0+1,i1  ,i2  ] \\\n",
    "                                  + f[i0  ,i1-1,i2  ]+f[i0  ,i1+1,i2  ] \\\n",
    "                                  + f[i0  ,i1  ,i2-1]+f[i0  ,i1  ,i2+1] \\\n",
    "                                - 6*f[i0,  i1,  i2  ]\n",
    "    return out"
   ]
  },
  {
   "cell_type": "code",
   "execution_count": 22,
   "metadata": {},
   "outputs": [],
   "source": [
    "import numpy as np\n",
    "f=np.zeros((20,20,20))"
   ]
  },
  {
   "cell_type": "code",
   "execution_count": 24,
   "metadata": {},
   "outputs": [
    {
     "name": "stdout",
     "output_type": "stream",
     "text": [
      "[2 2 2] [17 17 17]\n"
     ]
    }
   ],
   "source": [
    "out=laplace(f)"
   ]
  },
  {
   "cell_type": "markdown",
   "metadata": {},
   "source": [
    "The indices ``li`` and ``ui`` are available in DISPATCH as ``self%li`` and ``self%ui``.  Note that in Python ``range(li,ui+1)`` runs from ``li`` to ``ui`` (inclusive)"
   ]
  },
  {
   "cell_type": "markdown",
   "metadata": {},
   "source": [
    "### Compile and run the experiment"
   ]
  },
  {
   "cell_type": "raw",
   "metadata": {},
   "source": [
    "$ make COMPILER=ifort\n",
    "... fix syntax errors ...\n",
    "$ ./dispatch.x"
   ]
  },
  {
   "cell_type": "markdown",
   "metadata": {},
   "source": [
    "When it seems to work ..\n",
    "### Access and investigate the output \n",
    ".. using the methods you ppicked up in the ``Star Formation`` case!"
   ]
  },
  {
   "cell_type": "code",
   "execution_count": null,
   "metadata": {},
   "outputs": [],
   "source": [
    "sn=dispatch.snapshot(2)\n",
    "sn.time"
   ]
  }
 ],
 "metadata": {
  "kernelspec": {
   "display_name": "Python 3",
   "language": "python",
   "name": "python3"
  },
  "language_info": {
   "codemirror_mode": {
    "name": "ipython",
    "version": 3
   },
   "file_extension": ".py",
   "mimetype": "text/x-python",
   "name": "python",
   "nbconvert_exporter": "python",
   "pygments_lexer": "ipython3",
   "version": "3.7.4"
  }
 },
 "nbformat": 4,
 "nbformat_minor": 4
}
